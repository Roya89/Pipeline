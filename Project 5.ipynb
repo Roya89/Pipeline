{
 "cells": [
  {
   "cell_type": "code",
   "execution_count": 1,
   "metadata": {},
   "outputs": [
    {
     "name": "stdout",
     "output_type": "stream",
     "text": [
      "Requirement already satisfied: requests in /opt/anaconda3/lib/python3.11/site-packages (2.31.0)\n",
      "Requirement already satisfied: beautifulsoup4 in /opt/anaconda3/lib/python3.11/site-packages (4.12.2)\n",
      "Requirement already satisfied: lxml in /opt/anaconda3/lib/python3.11/site-packages (4.9.3)\n",
      "Requirement already satisfied: pandas in /opt/anaconda3/lib/python3.11/site-packages (2.1.1)\n",
      "Requirement already satisfied: charset-normalizer<4,>=2 in /opt/anaconda3/lib/python3.11/site-packages (from requests) (2.0.4)\n",
      "Requirement already satisfied: idna<4,>=2.5 in /opt/anaconda3/lib/python3.11/site-packages (from requests) (3.4)\n",
      "Requirement already satisfied: urllib3<3,>=1.21.1 in /opt/anaconda3/lib/python3.11/site-packages (from requests) (2.0.7)\n",
      "Requirement already satisfied: certifi>=2017.4.17 in /opt/anaconda3/lib/python3.11/site-packages (from requests) (2024.7.4)\n",
      "Requirement already satisfied: soupsieve>1.2 in /opt/anaconda3/lib/python3.11/site-packages (from beautifulsoup4) (2.5)\n",
      "Requirement already satisfied: numpy>=1.23.2 in /opt/anaconda3/lib/python3.11/site-packages (from pandas) (1.26.0)\n",
      "Requirement already satisfied: python-dateutil>=2.8.2 in /opt/anaconda3/lib/python3.11/site-packages (from pandas) (2.8.2)\n",
      "Requirement already satisfied: pytz>=2020.1 in /opt/anaconda3/lib/python3.11/site-packages (from pandas) (2023.3.post1)\n",
      "Requirement already satisfied: tzdata>=2022.1 in /opt/anaconda3/lib/python3.11/site-packages (from pandas) (2023.3)\n",
      "Requirement already satisfied: six>=1.5 in /opt/anaconda3/lib/python3.11/site-packages (from python-dateutil>=2.8.2->pandas) (1.16.0)\n",
      "Note: you may need to restart the kernel to use updated packages.\n"
     ]
    }
   ],
   "source": [
    "pip install requests beautifulsoup4 lxml pandas\n"
   ]
  },
  {
   "cell_type": "code",
   "execution_count": 2,
   "metadata": {},
   "outputs": [],
   "source": [
    "import requests\n",
    "from bs4 import BeautifulSoup\n",
    "import pandas as pd\n"
   ]
  },
  {
   "cell_type": "code",
   "execution_count": 3,
   "metadata": {},
   "outputs": [],
   "source": [
    "res = requests.get('https://example.com/')"
   ]
  },
  {
   "cell_type": "code",
   "execution_count": 4,
   "metadata": {},
   "outputs": [
    {
     "data": {
      "text/plain": [
       "'<!doctype html>\\n<html>\\n<head>\\n    <title>Example Domain</title>\\n\\n    <meta charset=\"utf-8\" />\\n    <meta http-equiv=\"Content-type\" content=\"text/html; charset=utf-8\" />\\n    <meta name=\"viewport\" content=\"width=device-width, initial-scale=1\" />\\n    <style type=\"text/css\">\\n    body {\\n        background-color: #f0f0f2;\\n        margin: 0;\\n        padding: 0;\\n        font-family: -apple-system, system-ui, BlinkMacSystemFont, \"Segoe UI\", \"Open Sans\", \"Helvetica Neue\", Helvetica, Arial, sans-serif;\\n        \\n    }\\n    div {\\n        width: 600px;\\n        margin: 5em auto;\\n        padding: 2em;\\n        background-color: #fdfdff;\\n        border-radius: 0.5em;\\n        box-shadow: 2px 3px 7px 2px rgba(0,0,0,0.02);\\n    }\\n    a:link, a:visited {\\n        color: #38488f;\\n        text-decoration: none;\\n    }\\n    @media (max-width: 700px) {\\n        div {\\n            margin: 0 auto;\\n            width: auto;\\n        }\\n    }\\n    </style>    \\n</head>\\n\\n<body>\\n<div>\\n    <h1>Example Domain</h1>\\n    <p>This domain is for use in illustrative examples in documents. You may use this\\n    domain in literature without prior coordination or asking for permission.</p>\\n    <p><a href=\"https://www.iana.org/domains/example\">More information...</a></p>\\n</div>\\n</body>\\n</html>\\n'"
      ]
     },
     "execution_count": 4,
     "metadata": {},
     "output_type": "execute_result"
    }
   ],
   "source": [
    "res.text"
   ]
  },
  {
   "cell_type": "code",
   "execution_count": 5,
   "metadata": {},
   "outputs": [],
   "source": [
    "# the correct way to call BeautifulSoup\n",
    "soup = BeautifulSoup(res.text, 'lxml')\n"
   ]
  },
  {
   "cell_type": "code",
   "execution_count": 6,
   "metadata": {},
   "outputs": [
    {
     "data": {
      "text/plain": [
       "<!DOCTYPE html>\n",
       "<html>\n",
       "<head>\n",
       "<title>Example Domain</title>\n",
       "<meta charset=\"utf-8\"/>\n",
       "<meta content=\"text/html; charset=utf-8\" http-equiv=\"Content-type\"/>\n",
       "<meta content=\"width=device-width, initial-scale=1\" name=\"viewport\"/>\n",
       "<style type=\"text/css\">\n",
       "    body {\n",
       "        background-color: #f0f0f2;\n",
       "        margin: 0;\n",
       "        padding: 0;\n",
       "        font-family: -apple-system, system-ui, BlinkMacSystemFont, \"Segoe UI\", \"Open Sans\", \"Helvetica Neue\", Helvetica, Arial, sans-serif;\n",
       "        \n",
       "    }\n",
       "    div {\n",
       "        width: 600px;\n",
       "        margin: 5em auto;\n",
       "        padding: 2em;\n",
       "        background-color: #fdfdff;\n",
       "        border-radius: 0.5em;\n",
       "        box-shadow: 2px 3px 7px 2px rgba(0,0,0,0.02);\n",
       "    }\n",
       "    a:link, a:visited {\n",
       "        color: #38488f;\n",
       "        text-decoration: none;\n",
       "    }\n",
       "    @media (max-width: 700px) {\n",
       "        div {\n",
       "            margin: 0 auto;\n",
       "            width: auto;\n",
       "        }\n",
       "    }\n",
       "    </style>\n",
       "</head>\n",
       "<body>\n",
       "<div>\n",
       "<h1>Example Domain</h1>\n",
       "<p>This domain is for use in illustrative examples in documents. You may use this\n",
       "    domain in literature without prior coordination or asking for permission.</p>\n",
       "<p><a href=\"https://www.iana.org/domains/example\">More information...</a></p>\n",
       "</div>\n",
       "</body>\n",
       "</html>"
      ]
     },
     "execution_count": 6,
     "metadata": {},
     "output_type": "execute_result"
    }
   ],
   "source": [
    "soup"
   ]
  },
  {
   "cell_type": "code",
   "execution_count": 7,
   "metadata": {},
   "outputs": [
    {
     "data": {
      "text/plain": [
       "[<title>Example Domain</title>]"
      ]
     },
     "execution_count": 7,
     "metadata": {},
     "output_type": "execute_result"
    }
   ],
   "source": [
    "soup.select('title')"
   ]
  },
  {
   "cell_type": "code",
   "execution_count": 8,
   "metadata": {},
   "outputs": [
    {
     "data": {
      "text/plain": [
       "[<p>This domain is for use in illustrative examples in documents. You may use this\n",
       "     domain in literature without prior coordination or asking for permission.</p>,\n",
       " <p><a href=\"https://www.iana.org/domains/example\">More information...</a></p>]"
      ]
     },
     "execution_count": 8,
     "metadata": {},
     "output_type": "execute_result"
    }
   ],
   "source": [
    "soup.select('p')"
   ]
  },
  {
   "cell_type": "code",
   "execution_count": 9,
   "metadata": {},
   "outputs": [
    {
     "data": {
      "text/plain": [
       "<h1>Example Domain</h1>"
      ]
     },
     "execution_count": 9,
     "metadata": {},
     "output_type": "execute_result"
    }
   ],
   "source": [
    "soup.select('h1')[0]"
   ]
  },
  {
   "cell_type": "code",
   "execution_count": 10,
   "metadata": {},
   "outputs": [
    {
     "data": {
      "text/plain": [
       "'Example Domain'"
      ]
     },
     "execution_count": 10,
     "metadata": {},
     "output_type": "execute_result"
    }
   ],
   "source": [
    "soup.select('h1')[0].getText()"
   ]
  },
  {
   "cell_type": "code",
   "execution_count": 11,
   "metadata": {},
   "outputs": [],
   "source": [
    "parag=soup.select('p')"
   ]
  },
  {
   "cell_type": "code",
   "execution_count": 12,
   "metadata": {},
   "outputs": [
    {
     "data": {
      "text/plain": [
       "'This domain is for use in illustrative examples in documents. You may use this\\n    domain in literature without prior coordination or asking for permission.'"
      ]
     },
     "execution_count": 12,
     "metadata": {},
     "output_type": "execute_result"
    }
   ],
   "source": [
    "parag[0].getText()"
   ]
  },
  {
   "cell_type": "code",
   "execution_count": 13,
   "metadata": {},
   "outputs": [
    {
     "data": {
      "text/plain": [
       "<p><a href=\"https://www.iana.org/domains/example\">More information...</a></p>"
      ]
     },
     "execution_count": 13,
     "metadata": {},
     "output_type": "execute_result"
    }
   ],
   "source": [
    "parag[1]"
   ]
  },
  {
   "cell_type": "markdown",
   "metadata": {},
   "source": [
    "**The soup.select() method returns a list of elements that match the CSS selector. If you want the text from the first element or all elements, you need to access them properly."
   ]
  },
  {
   "cell_type": "code",
   "execution_count": 14,
   "metadata": {},
   "outputs": [],
   "source": [
    "res=requests.get('https://en.wikipedia.org/wiki/Grace_Hopper')"
   ]
  },
  {
   "cell_type": "code",
   "execution_count": 15,
   "metadata": {},
   "outputs": [
    {
     "ename": "NameError",
     "evalue": "name 'bs4' is not defined",
     "output_type": "error",
     "traceback": [
      "\u001b[0;31m---------------------------------------------------------------------------\u001b[0m",
      "\u001b[0;31mNameError\u001b[0m                                 Traceback (most recent call last)",
      "Cell \u001b[0;32mIn[15], line 1\u001b[0m\n\u001b[0;32m----> 1\u001b[0m soup\u001b[38;5;241m=\u001b[39mbs4\u001b[38;5;241m.\u001b[39mBeautifulSoup(res\u001b[38;5;241m.\u001b[39mtext, \u001b[38;5;124m'\u001b[39m\u001b[38;5;124mlxml\u001b[39m\u001b[38;5;124m'\u001b[39m)\n",
      "\u001b[0;31mNameError\u001b[0m: name 'bs4' is not defined"
     ]
    }
   ],
   "source": [
    "soup=bs4.BeautifulSoup(res.text, 'lxml')"
   ]
  },
  {
   "cell_type": "code",
   "execution_count": null,
   "metadata": {},
   "outputs": [],
   "source": [
    "items = soup.select('.vector-column-start')"
   ]
  },
  {
   "cell_type": "code",
   "execution_count": null,
   "metadata": {},
   "outputs": [],
   "source": [
    "for item in items:\n",
    "    print(item.text)\n"
   ]
  },
  {
   "cell_type": "markdown",
   "metadata": {},
   "source": [
    "<h1> Project 5"
   ]
  },
  {
   "cell_type": "markdown",
   "metadata": {},
   "source": [
    "<h2> Target: get the Title and datesb of every news about Bitcoin using FINANCIAL TIMES"
   ]
  },
  {
   "cell_type": "code",
   "execution_count": null,
   "metadata": {},
   "outputs": [
    {
     "name": "stdout",
     "output_type": "stream",
     "text": [
      "Requirement already satisfied: requests in /opt/anaconda3/lib/python3.11/site-packages (2.31.0)\n",
      "Requirement already satisfied: beautifulsoup4 in /opt/anaconda3/lib/python3.11/site-packages (4.12.2)\n",
      "Requirement already satisfied: lxml in /opt/anaconda3/lib/python3.11/site-packages (4.9.3)\n",
      "Requirement already satisfied: charset-normalizer<4,>=2 in /opt/anaconda3/lib/python3.11/site-packages (from requests) (2.0.4)\n",
      "Requirement already satisfied: idna<4,>=2.5 in /opt/anaconda3/lib/python3.11/site-packages (from requests) (3.4)\n",
      "Requirement already satisfied: urllib3<3,>=1.21.1 in /opt/anaconda3/lib/python3.11/site-packages (from requests) (2.0.7)\n",
      "Requirement already satisfied: certifi>=2017.4.17 in /opt/anaconda3/lib/python3.11/site-packages (from requests) (2024.7.4)\n",
      "Requirement already satisfied: soupsieve>1.2 in /opt/anaconda3/lib/python3.11/site-packages (from beautifulsoup4) (2.5)\n",
      "Note: you may need to restart the kernel to use updated packages.\n"
     ]
    }
   ],
   "source": [
    "pip install requests beautifulsoup4 lxml\n"
   ]
  },
  {
   "cell_type": "code",
   "execution_count": null,
   "metadata": {},
   "outputs": [],
   "source": [
    "import requests\n",
    "from bs4 import BeautifulSoup\n",
    "import pandas as pd"
   ]
  },
  {
   "cell_type": "code",
   "execution_count": null,
   "metadata": {},
   "outputs": [],
   "source": [
    "\n",
    "\n",
    "# List to store the scraped data\n",
    "data = []\n",
    "\n",
    "# Base URL for page 1 (we will modify this URL for subsequent pages)\n",
    "base_url = 'https://www.ft.com/search?expandRefinements=true&q=Bitcoin&dateFrom=2024-04-01&dateTo=2024-12-09&page={}'\n",
    "\n",
    "# Custom headers to mimic a browser request\n",
    "headers = {\n",
    "    'User-Agent': 'Mozilla/5.0 (Windows NT 10.0; Win64; x64) AppleWebKit/537.36 (KHTML, like Gecko) Chrome/91.0.4472.124 Safari/537.36'\n",
    "}\n"
   ]
  },
  {
   "cell_type": "code",
   "execution_count": null,
   "metadata": {},
   "outputs": [
    {
     "name": "stdout",
     "output_type": "stream",
     "text": [
      "Failed to retrieve page 1 with status code 406\n",
      "Failed to retrieve page 2 with status code 406\n",
      "Failed to retrieve page 3 with status code 406\n",
      "Failed to retrieve page 4 with status code 406\n",
      "Failed to retrieve page 5 with status code 406\n",
      "Failed to retrieve page 6 with status code 406\n",
      "Failed to retrieve page 7 with status code 406\n",
      "Failed to retrieve page 8 with status code 406\n",
      "Failed to retrieve page 9 with status code 406\n",
      "Failed to retrieve page 10 with status code 406\n",
      "Failed to retrieve page 11 with status code 406\n"
     ]
    }
   ],
   "source": [
    "\n",
    "# Step 1: Loop through all 11 pages\n",
    "for page_num in range(1, 1):  # Page numbers 1 to 11\n",
    "    url = base_url.format(page_num)\n",
    "    \n",
    "    # Fetch the content from the current page\n",
    "    response = requests.get(url, headers=headers)\n",
    "    \n",
    "    # Check if the request was successful (status code 200)\n",
    "    if response.status_code == 200:\n",
    "        # Parse the HTML content using BeautifulSoup\n",
    "        soup = BeautifulSoup(response.text, 'lxml')\n",
    "\n",
    "        # Extract titles and dates\n",
    "        articles = soup.select('div.o-teaser__content')  # Selects all articles\n",
    "\n",
    "        for article in articles:\n",
    "            # Extract the title\n",
    "            title_tag = article.select_one('a.js-teaser-heading-link')\n",
    "            title = title_tag.text.strip() if title_tag else 'No title'\n",
    "\n",
    "            # Extract the date\n",
    "            date_tag = article.select_one('time')\n",
    "            date = date_tag['datetime'] if date_tag else 'No date'\n",
    "\n",
    "            # Append the data as a tuple (Title, Date) to the list\n",
    "            data.append((title, date))\n",
    "    else:\n",
    "        print(f\"Failed to retrieve page {page_num} with status code {response.status_code}\")\n"
   ]
  },
  {
   "cell_type": "code",
   "execution_count": null,
   "metadata": {},
   "outputs": [
    {
     "name": "stdout",
     "output_type": "stream",
     "text": [
      "Empty DataFrame\n",
      "Columns: [Title, Date]\n",
      "Index: []\n"
     ]
    }
   ],
   "source": [
    "# Step 2: Convert the data into a DataFrame\n",
    "df = pd.DataFrame(data, columns=['Title', 'Date'])\n",
    "\n",
    "# Step 3: Save the DataFrame to a CSV file (optional)\n",
    "df.to_csv('scraped_ft_articles.csv', index=False)\n",
    "\n",
    "# Step 4: Display the DataFrame (or further manipulate it)\n",
    "print(df)"
   ]
  },
  {
   "cell_type": "code",
   "execution_count": null,
   "metadata": {},
   "outputs": [
    {
     "data": {
      "text/html": [
       "<div>\n",
       "<style scoped>\n",
       "    .dataframe tbody tr th:only-of-type {\n",
       "        vertical-align: middle;\n",
       "    }\n",
       "\n",
       "    .dataframe tbody tr th {\n",
       "        vertical-align: top;\n",
       "    }\n",
       "\n",
       "    .dataframe thead th {\n",
       "        text-align: right;\n",
       "    }\n",
       "</style>\n",
       "<table border=\"1\" class=\"dataframe\">\n",
       "  <thead>\n",
       "    <tr style=\"text-align: right;\">\n",
       "      <th></th>\n",
       "      <th>Title</th>\n",
       "      <th>Date</th>\n",
       "    </tr>\n",
       "  </thead>\n",
       "  <tbody>\n",
       "  </tbody>\n",
       "</table>\n",
       "</div>"
      ],
      "text/plain": [
       "Empty DataFrame\n",
       "Columns: [Title, Date]\n",
       "Index: []"
      ]
     },
     "execution_count": 39,
     "metadata": {},
     "output_type": "execute_result"
    }
   ],
   "source": [
    "df.head(30)"
   ]
  },
  {
   "cell_type": "code",
   "execution_count": null,
   "metadata": {},
   "outputs": [
    {
     "name": "stdout",
     "output_type": "stream",
     "text": [
      "Failed to retrieve page 1 with status code 406\n",
      "Failed to retrieve page 2 with status code 406\n",
      "Failed to retrieve page 3 with status code 406\n",
      "Failed to retrieve page 4 with status code 406\n",
      "Failed to retrieve page 5 with status code 406\n",
      "Failed to retrieve page 6 with status code 406\n",
      "Failed to retrieve page 7 with status code 406\n",
      "Failed to retrieve page 8 with status code 406\n",
      "Failed to retrieve page 9 with status code 406\n",
      "Failed to retrieve page 10 with status code 406\n",
      "Failed to retrieve page 11 with status code 406\n",
      "Empty DataFrame\n",
      "Columns: [Title, Date]\n",
      "Index: []\n"
     ]
    }
   ],
   "source": [
    "import requests\n",
    "from bs4 import BeautifulSoup\n",
    "import pandas as pd\n",
    "\n",
    "# List to store the scraped data\n",
    "data = []\n",
    "\n",
    "# Base URL with the page placeholder\n",
    "base_url = 'https://www.ft.com/search?expandRefinements=true&q=bitcoin&dateFrom=2024-04-01&dateTo=2024-12-09&page={}'\n",
    "\n",
    "\n",
    "\n",
    "# Loop through the 11 pages (you may need to adjust based on the total number of pages)\n",
    "for page_num in range(1, 12):\n",
    "    url = base_url.format(page_num)\n",
    "    \n",
    "    # Fetch the content from the current page\n",
    "    response = requests.get(url, headers=headers)\n",
    "    \n",
    "    # Check if the request was successful\n",
    "    if response.status_code == 200:\n",
    "        # Parse the HTML content\n",
    "        soup = BeautifulSoup(response.text, 'lxml')\n",
    "\n",
    "        # Extract articles (adjust the selector to match FT's HTML structure)\n",
    "        articles = soup.select('div.o-teaser__content')  # Adjust as needed\n",
    "\n",
    "        for article in articles:\n",
    "            # Extract the title\n",
    "            title_tag = article.select_one('a.js-teaser-heading-link')\n",
    "            title = title_tag.text.strip() if title_tag else 'No title'\n",
    "\n",
    "            # Extract the date\n",
    "            date_tag = article.select_one('time')\n",
    "            date = date_tag['datetime'] if date_tag else 'No date'\n",
    "\n",
    "            # Append to the data list\n",
    "            data.append((title, date))\n",
    "    else:\n",
    "        print(f\"Failed to retrieve page {page_num} with status code {response.status_code}\")\n",
    "\n",
    "# Create a DataFrame to store the data\n",
    "df = pd.DataFrame(data, columns=['Title', 'Date'])\n",
    "\n",
    "# Save to a CSV file (optional)\n",
    "df.to_csv('ft_articles.csv', index=False)\n",
    "\n",
    "# Display the DataFrame\n",
    "print(df)\n"
   ]
  },
  {
   "cell_type": "code",
   "execution_count": 16,
   "metadata": {},
   "outputs": [
    {
     "ename": "KeyboardInterrupt",
     "evalue": "",
     "output_type": "error",
     "traceback": [
      "\u001b[0;31m---------------------------------------------------------------------------\u001b[0m",
      "\u001b[0;31mKeyboardInterrupt\u001b[0m                         Traceback (most recent call last)",
      "Cell \u001b[0;32mIn[16], line 53\u001b[0m\n\u001b[1;32m     50\u001b[0m         \u001b[38;5;28mprint\u001b[39m(\u001b[38;5;124mf\u001b[39m\u001b[38;5;124m\"\u001b[39m\u001b[38;5;124mFailed to retrieve page \u001b[39m\u001b[38;5;132;01m{\u001b[39;00mpage_num\u001b[38;5;132;01m}\u001b[39;00m\u001b[38;5;124m with status code \u001b[39m\u001b[38;5;132;01m{\u001b[39;00mresponse\u001b[38;5;241m.\u001b[39mstatus_code\u001b[38;5;132;01m}\u001b[39;00m\u001b[38;5;124m\"\u001b[39m)\n\u001b[1;32m     52\u001b[0m     \u001b[38;5;66;03m# Wait to avoid being flagged as a bot\u001b[39;00m\n\u001b[0;32m---> 53\u001b[0m     time\u001b[38;5;241m.\u001b[39msleep(\u001b[38;5;241m2\u001b[39m)\n\u001b[1;32m     55\u001b[0m \u001b[38;5;66;03m# Print or save the data\u001b[39;00m\n\u001b[1;32m     56\u001b[0m \u001b[38;5;28;01mfor\u001b[39;00m item \u001b[38;5;129;01min\u001b[39;00m data:\n",
      "\u001b[0;31mKeyboardInterrupt\u001b[0m: "
     ]
    }
   ],
   "source": [
    "import requests\n",
    "from bs4 import BeautifulSoup\n",
    "import time\n",
    "\n",
    "# List to store the scraped data\n",
    "data = []\n",
    "\n",
    "# Base URL for page 1 (we will modify this URL for subsequent pages)\n",
    "base_url = 'https://www.ft.com/search?expandRefinements=true&q=Bitcoin&dateFrom=2024-04-01&dateTo=2024-12-09&page={}'\n",
    "\n",
    "# Custom headers to mimic a browser request\n",
    "headers = {\n",
    "    'User-Agent': 'Mozilla/5.0 (Windows NT 10.0; Win64; x64) AppleWebKit/537.36 (KHTML, like Gecko) Chrome/91.0.4472.124 Safari/537.36',\n",
    "    'Accept-Language': 'en-US,en;q=0.9',\n",
    "    'Accept': 'text/html,application/xhtml+xml,application/xml;q=0.9,image/webp,*/*;q=0.8',\n",
    "    'Referer': 'https://www.google.com/'\n",
    "}\n",
    "\n",
    "# Create a session\n",
    "session = requests.Session()\n",
    "session.headers.update(headers)\n",
    "\n",
    "# Step 1: Loop through all 11 pages\n",
    "for page_num in range(1, 12):  # Page numbers 1 to 11\n",
    "    url = base_url.format(page_num)\n",
    "    \n",
    "    # Fetch the content from the current page\n",
    "    response = session.get(url)\n",
    "    \n",
    "    # Check if the request was successful (status code 200)\n",
    "    if response.status_code == 200:\n",
    "        # Parse the HTML content using BeautifulSoup\n",
    "        soup = BeautifulSoup(response.text, 'lxml')\n",
    "\n",
    "        # Extract titles and dates\n",
    "        articles = soup.select('div.o-teaser__content')  # Selects all articles\n",
    "\n",
    "        for article in articles:\n",
    "            # Extract the title\n",
    "            title_tag = article.select_one('a.js-teaser-heading-link')\n",
    "            title = title_tag.text.strip() if title_tag else 'No title'\n",
    "\n",
    "            # Extract the date\n",
    "            date_tag = article.select_one('time')\n",
    "            date = date_tag['datetime'] if date_tag else 'No date'\n",
    "\n",
    "            # Append the data as a tuple (Title, Date) to the list\n",
    "            data.append((title, date))\n",
    "    else:\n",
    "        print(f\"Failed to retrieve page {page_num} with status code {response.status_code}\")\n",
    "    \n",
    "    # Wait to avoid being flagged as a bot\n",
    "    time.sleep(2)\n",
    "\n",
    "# Print or save the data\n",
    "for item in data:\n",
    "    print(item)\n"
   ]
  },
  {
   "cell_type": "code",
   "execution_count": null,
   "metadata": {},
   "outputs": [
    {
     "data": {
      "text/html": [
       "<div>\n",
       "<style scoped>\n",
       "    .dataframe tbody tr th:only-of-type {\n",
       "        vertical-align: middle;\n",
       "    }\n",
       "\n",
       "    .dataframe tbody tr th {\n",
       "        vertical-align: top;\n",
       "    }\n",
       "\n",
       "    .dataframe thead th {\n",
       "        text-align: right;\n",
       "    }\n",
       "</style>\n",
       "<table border=\"1\" class=\"dataframe\">\n",
       "  <thead>\n",
       "    <tr style=\"text-align: right;\">\n",
       "      <th></th>\n",
       "      <th>Title</th>\n",
       "      <th>Date</th>\n",
       "    </tr>\n",
       "  </thead>\n",
       "  <tbody>\n",
       "  </tbody>\n",
       "</table>\n",
       "</div>"
      ],
      "text/plain": [
       "Empty DataFrame\n",
       "Columns: [Title, Date]\n",
       "Index: []"
      ]
     },
     "execution_count": 41,
     "metadata": {},
     "output_type": "execute_result"
    }
   ],
   "source": [
    "df.head(30)"
   ]
  },
  {
   "cell_type": "code",
   "execution_count": 19,
   "metadata": {},
   "outputs": [
    {
     "name": "stdout",
     "output_type": "stream",
     "text": [
      "{'Meta Data': {'1. Information': 'Daily Prices and Volumes for Digital Currency', '2. Digital Currency Code': 'BTC', '3. Digital Currency Name': 'Bitcoin', '4. Market Code': 'EUR', '5. Market Name': 'Euro', '6. Last Refreshed': '2024-12-10 00:00:00', '7. Time Zone': 'UTC'}, 'Time Series (Digital Currency Daily)': {'2024-12-10': {'1. open': '92239.33000000', '2. high': '93082.80000000', '3. low': '92000.01000000', '4. close': '92692.36000000', '5. volume': '26.58823172'}, '2024-12-09': {'1. open': '95662.16000000', '2. high': '95763.04000000', '3. low': '89217.53000000', '4. close': '92274.10000000', '5. volume': '552.52661383'}, '2024-12-08': {'1. open': '94428.15000000', '2. high': '95908.70000000', '3. low': '93391.07000000', '4. close': '95685.97000000', '5. volume': '168.88619671'}, '2024-12-07': {'1. open': '94435.53000000', '2. high': '95080.04000000', '3. low': '93383.71000000', '4. close': '94421.99000000', '5. volume': '197.26954813'}, '2024-12-06': {'1. open': '91706.60000000', '2. high': '96591.42000000', '3. low': '91127.00000000', '4. close': '94436.71000000', '5. volume': '542.64571223'}, '2024-12-05': {'1. open': '93775.73000000', '2. high': '98456.03000000', '3. low': '86600.00000000', '4. close': '91712.59000000', '5. volume': '1236.52232064'}, '2024-12-04': {'1. open': '91249.72000000', '2. high': '94277.20000000', '3. low': '89907.87000000', '4. close': '93790.50000000', '5. volume': '498.49733094'}, '2024-12-03': {'1. open': '91279.95000000', '2. high': '91751.07000000', '3. low': '88886.03000000', '4. close': '91229.73000000', '5. volume': '378.30146135'}, '2024-12-02': {'1. open': '92096.25000000', '2. high': '93098.99000000', '3. low': '90011.05000000', '4. close': '91275.31000000', '5. volume': '371.87919391'}, '2024-12-01': {'1. open': '91143.07000000', '2. high': '92599.99000000', '3. low': '90470.00000000', '4. close': '92099.58000000', '5. volume': '195.27489538'}, '2024-11-30': {'1. open': '92150.72000000', '2. high': '92154.35000000', '3. low': '90722.66000000', '4. close': '91143.29000000', '5. volume': '147.38722472'}, '2024-11-29': {'1. open': '90627.58000000', '2. high': '93535.47000000', '3. low': '90296.09000000', '4. close': '92163.53000000', '5. volume': '370.75302119'}, '2024-11-28': {'1. open': '90831.46000000', '2. high': '91601.62000000', '3. low': '89731.44000000', '4. close': '90606.98000000', '5. volume': '340.61478617'}, '2024-11-27': {'1. open': '87609.93000000', '2. high': '92207.53000000', '3. low': '87423.34000000', '4. close': '90854.12000000', '5. volume': '716.51787977'}, '2024-11-26': {'1. open': '88922.48000000', '2. high': '90777.81000000', '3. low': '86543.90000000', '4. close': '87605.57000000', '5. volume': '1087.59277563'}, '2024-11-25': {'1. open': '93388.13000000', '2. high': '94400.00000000', '3. low': '88070.46000000', '4. close': '88950.00000000', '5. volume': '946.06920339'}, '2024-11-24': {'1. open': '93200.09000000', '2. high': '94118.48000000', '3. low': '91129.86000000', '4. close': '93391.61000000', '5. volume': '520.87509879'}, '2024-11-23': {'1. open': '94720.51000000', '2. high': '94720.51000000', '3. low': '92680.84000000', '4. close': '93208.66000000', '5. volume': '363.23362745'}, '2024-11-22': {'1. open': '93564.35000000', '2. high': '95501.25000000', '3. low': '93075.21000000', '4. close': '94717.46000000', '5. volume': '1041.06139351'}, '2024-11-21': {'1. open': '89274.21000000', '2. high': '94235.00000000', '3. low': '89140.88000000', '4. close': '93554.33000000', '5. volume': '1637.55645015'}, '2024-11-20': {'1. open': '87182.40000000', '2. high': '90088.98000000', '3. low': '86446.65000000', '4. close': '89280.02000000', '5. volume': '671.56658014'}, '2024-11-19': {'1. open': '85409.31000000', '2. high': '88742.51000000', '3. low': '85337.81000000', '4. close': '87157.00000000', '5. volume': '693.28942984'}, '2024-11-18': {'1. open': '85046.28000000', '2. high': '87599.00000000', '3. low': '84594.12000000', '4. close': '85423.38000000', '5. volume': '703.24208600'}, '2024-11-17': {'1. open': '85667.74000000', '2. high': '86397.38000000', '3. low': '83913.99000000', '4. close': '85016.99000000', '5. volume': '389.00874594'}, '2024-11-16': {'1. open': '86256.73000000', '2. high': '86900.22000000', '3. low': '85171.44000000', '4. close': '85665.95000000', '5. volume': '220.55102249'}, '2024-11-15': {'1. open': '82893.06000000', '2. high': '87076.83000000', '3. low': '82621.18000000', '4. close': '86260.52000000', '5. volume': '532.44187883'}, '2024-11-14': {'1. open': '85286.00000000', '2. high': '87076.83000000', '3. low': '82317.57000000', '4. close': '82917.20000000', '5. volume': '877.49846428'}, '2024-11-13': {'1. open': '82311.26000000', '2. high': '88000.00000000', '3. low': '80903.15000000', '4. close': '85278.66000000', '5. volume': '1364.44961113'}, '2024-11-12': {'1. open': '82273.98000000', '2. high': '84457.98000000', '3. low': '75700.00000000', '4. close': '82334.41000000', '5. volume': '1838.12262283'}, '2024-11-11': {'1. open': '74780.73000000', '2. high': '82900.00000000', '3. low': '74639.10000000', '4. close': '82274.06000000', '5. volume': '1441.28614835'}, '2024-11-10': {'1. open': '71562.42000000', '2. high': '75699.99000000', '3. low': '71388.80000000', '4. close': '74757.19000000', '5. volume': '760.24717970'}, '2024-11-09': {'1. open': '71418.19000000', '2. high': '71777.77000000', '3. low': '70664.61000000', '4. close': '71550.49000000', '5. volume': '166.98838724'}, '2024-11-08': {'1. open': '70324.72000000', '2. high': '72088.30000000', '3. low': '70132.73000000', '4. close': '71421.23000000', '5. volume': '269.30354873'}, '2024-11-07': {'1. open': '70340.00000000', '2. high': '71193.11000000', '3. low': '68901.04000000', '4. close': '70292.42000000', '5. volume': '400.31083733'}, '2024-11-06': {'1. open': '63517.03000000', '2. high': '71149.78000000', '3. low': '63423.44000000', '4. close': '70304.54000000', '5. volume': '1364.77495693'}, '2024-11-05': {'1. open': '62348.64000000', '2. high': '64637.98000000', '3. low': '62022.59000000', '4. close': '63491.53000000', '5. volume': '282.78464079'}, '2024-11-04': {'1. open': '63408.26000000', '2. high': '63791.42000000', '3. low': '61410.68000000', '4. close': '62357.98000000', '5. volume': '301.31622731'}, '2024-11-03': {'1. open': '64132.60000000', '2. high': '64169.66000000', '3. low': '62351.09000000', '4. close': '63426.11000000', '5. volume': '359.15274360'}, '2024-11-02': {'1. open': '64144.26000000', '2. high': '64537.47000000', '3. low': '63776.12000000', '4. close': '64124.73000000', '5. volume': '48.98607369'}, '2024-11-01': {'1. open': '64506.42000000', '2. high': '65968.48000000', '3. low': '63230.24000000', '4. close': '64175.87000000', '5. volume': '258.86695384'}, '2024-10-31': {'1. open': '66595.95000000', '2. high': '66893.60000000', '3. low': '63946.30000000', '4. close': '64506.43000000', '5. volume': '308.79554682'}, '2024-10-30': {'1. open': '67148.64000000', '2. high': '67174.82000000', '3. low': '65914.41000000', '4. close': '66607.40000000', '5. volume': '252.20350371'}, '2024-10-29': {'1. open': '64636.79000000', '2. high': '68000.00000000', '3. low': '64422.84000000', '4. close': '67134.23000000', '5. volume': '707.11838829'}, '2024-10-28': {'1. open': '62928.68000000', '2. high': '64932.23000000', '3. low': '62623.13000000', '4. close': '64634.89000000', '5. volume': '326.05451082'}, '2024-10-27': {'1. open': '62155.83000000', '2. high': '63198.15000000', '3. low': '61985.78000000', '4. close': '62928.34000000', '5. volume': '106.17886596'}, '2024-10-26': {'1. open': '61740.05000000', '2. high': '62453.74000000', '3. low': '61565.45000000', '4. close': '62136.66000000', '5. volume': '65.10975685'}, '2024-10-25': {'1. open': '62979.27000000', '2. high': '63463.91000000', '3. low': '60776.28000000', '4. close': '61744.48000000', '5. volume': '235.57270922'}, '2024-10-24': {'1. open': '61803.03000000', '2. high': '63574.05000000', '3. low': '61629.62000000', '4. close': '62976.58000000', '5. volume': '313.65572182'}, '2024-10-23': {'1. open': '62400.56000000', '2. high': '62400.56000000', '3. low': '60465.00000000', '4. close': '61791.39000000', '5. volume': '165.08982555'}, '2024-10-22': {'1. open': '62160.00000000', '2. high': '62777.00000000', '3. low': '61420.41000000', '4. close': '62408.10000000', '5. volume': '387.06914029'}, '2024-10-21': {'1. open': '63445.78000000', '2. high': '63900.00000000', '3. low': '61649.96000000', '4. close': '62154.91000000', '5. volume': '513.43364230'}, '2024-10-20': {'1. open': '62840.49000000', '2. high': '63779.18000000', '3. low': '62597.49000000', '4. close': '63433.63000000', '5. volume': '126.77171012'}, '2024-10-19': {'1. open': '62966.41000000', '2. high': '63186.47000000', '3. low': '62268.10000000', '4. close': '62835.98000000', '5. volume': '91.10108229'}, '2024-10-18': {'1. open': '62200.36000000', '2. high': '63499.99000000', '3. low': '61956.89000000', '4. close': '62976.42000000', '5. volume': '452.48284802'}, '2024-10-17': {'1. open': '62235.03000000', '2. high': '62509.07000000', '3. low': '61444.00000000', '4. close': '62185.80000000', '5. volume': '204.80844458'}, '2024-10-16': {'1. open': '61574.43000000', '2. high': '62759.72000000', '3. low': '61274.78000000', '4. close': '62222.06000000', '5. volume': '284.82937583'}, '2024-10-15': {'1. open': '60413.47000000', '2. high': '62200.00000000', '3. low': '59377.80000000', '4. close': '61565.84000000', '5. volume': '405.94917438'}, '2024-10-14': {'1. open': '57516.93000000', '2. high': '60999.00000000', '3. low': '57148.57000000', '4. close': '60393.03000000', '5. volume': '497.97698980'}, '2024-10-13': {'1. open': '57721.17000000', '2. high': '57789.17000000', '3. low': '56653.98000000', '4. close': '57519.27000000', '5. volume': '148.87016103'}, '2024-10-12': {'1. open': '57164.90000000', '2. high': '58003.83000000', '3. low': '57119.07000000', '4. close': '57728.29000000', '5. volume': '101.28575501'}, '2024-10-11': {'1. open': '55142.72000000', '2. high': '57977.43000000', '3. low': '54950.51000000', '4. close': '57140.17000000', '5. volume': '224.21897559'}, '2024-10-10': {'1. open': '55370.10000000', '2. high': '56058.68000000', '3. low': '53904.09000000', '4. close': '55146.64000000', '5. volume': '220.05098312'}, '2024-10-09': {'1. open': '56623.09000000', '2. high': '57004.21000000', '3. low': '55090.00000000', '4. close': '55379.26000000', '5. volume': '184.88185859'}, '2024-10-08': {'1. open': '56703.35000000', '2. high': '57573.30000000', '3. low': '56373.07000000', '4. close': '56607.21000000', '5. volume': '159.12921466'}, '2024-10-07': {'1. open': '57256.48000000', '2. high': '58723.00000000', '3. low': '56600.00000000', '4. close': '56722.36000000', '5. volume': '207.05337233'}, '2024-10-06': {'1. open': '56522.61000000', '2. high': '57354.13000000', '3. low': '56300.00000000', '4. close': '57248.79000000', '5. volume': '92.42354624'}, '2024-10-05': {'1. open': '56588.84000000', '2. high': '56831.74000000', '3. low': '56187.41000000', '4. close': '56505.53000000', '5. volume': '58.20658723'}, '2024-10-04': {'1. open': '55047.76000000', '2. high': '56945.23000000', '3. low': '54785.63000000', '4. close': '56572.45000000', '5. volume': '229.25658222'}, '2024-10-03': {'1. open': '54893.39000000', '2. high': '55719.54000000', '3. low': '54237.15000000', '4. close': '55053.60000000', '5. volume': '325.96403893'}, '2024-10-02': {'1. open': '54908.65000000', '2. high': '56446.85000000', '3. low': '54301.00000000', '4. close': '54905.63000000', '5. volume': '314.17660861'}, '2024-10-01': {'1. open': '56850.00000000', '2. high': '57713.90000000', '3. low': '54301.02000000', '4. close': '54900.00000000', '5. volume': '332.62712344'}, '2024-09-30': {'1. open': '58752.02000000', '2. high': '58757.86000000', '3. low': '56421.56000000', '4. close': '56853.11000000', '5. volume': '284.50661756'}, '2024-09-29': {'1. open': '59006.02000000', '2. high': '59130.89000000', '3. low': '58620.64000000', '4. close': '58742.25000000', '5. volume': '99.07191940'}, '2024-09-28': {'1. open': '58959.93000000', '2. high': '59348.82000000', '3. low': '58610.19000000', '4. close': '58982.04000000', '5. volume': '83.33974660'}, '2024-09-27': {'1. open': '58329.32000000', '2. high': '59528.74000000', '3. low': '58057.40000000', '4. close': '58936.22000000', '5. volume': '271.49194403'}, '2024-09-26': {'1. open': '56715.02000000', '2. high': '58940.47000000', '3. low': '56281.39000000', '4. close': '58315.28000000', '5. volume': '324.94929400'}, '2024-09-25': {'1. open': '57453.84000000', '2. high': '57924.98000000', '3. low': '56526.64000000', '4. close': '56730.08000000', '5. volume': '169.19799330'}, '2024-09-24': {'1. open': '57003.00000000', '2. high': '57822.22000000', '3. low': '56259.42000000', '4. close': '57426.47000000', '5. volume': '218.53383368'}, '2024-09-23': {'1. open': '56988.75000000', '2. high': '57970.81000000', '3. low': '56080.15000000', '4. close': '56985.67000000', '5. volume': '223.72967754'}, '2024-09-22': {'1. open': '56772.76000000', '2. high': '57321.60000000', '3. low': '55883.34000000', '4. close': '57001.09000000', '5. volume': '146.12246921'}, '2024-09-21': {'1. open': '56605.64000000', '2. high': '56937.10000000', '3. low': '56211.31000000', '4. close': '56753.13000000', '5. volume': '53.43438343'}, '2024-09-20': {'1. open': '56396.66000000', '2. high': '57414.44000000', '3. low': '55813.70000000', '4. close': '56634.75000000', '5. volume': '198.00698897'}, '2024-09-19': {'1. open': '55571.01000000', '2. high': '57241.75000000', '3. low': '55438.04000000', '4. close': '56385.95000000', '5. volume': '329.06309665'}, '2024-09-18': {'1. open': '54261.74000000', '2. high': '55604.62000000', '3. low': '53223.45000000', '4. close': '55562.82000000', '5. volume': '337.00000766'}, '2024-09-17': {'1. open': '52290.93000000', '2. high': '55193.91000000', '3. low': '51790.06000000', '4. close': '54226.05000000', '5. volume': '364.06498608'}, '2024-09-16': {'1. open': '53320.98000000', '2. high': '53409.25000000', '3. low': '51650.17000000', '4. close': '52276.88000000', '5. volume': '227.43877981'}, '2024-09-15': {'1. open': '54168.55000000', '2. high': '54488.83000000', '3. low': '52959.70000000', '4. close': '53343.95000000', '5. volume': '156.99599343'}, '2024-09-14': {'1. open': '54674.74000000', '2. high': '54756.51000000', '3. low': '53700.00000000', '4. close': '54164.78000000', '5. volume': '96.08980267'}, '2024-09-13': {'1. open': '52489.57000000', '2. high': '54781.85000000', '3. low': '52007.60000000', '4. close': '54673.01000000', '5. volume': '250.20037654'}, '2024-09-12': {'1. open': '52130.02000000', '2. high': '53116.26000000', '3. low': '51955.86000000', '4. close': '52494.18000000', '5. volume': '260.61066202'}, '2024-09-11': {'1. open': '52319.39000000', '2. high': '52657.81000000', '3. low': '50490.85000000', '4. close': '52074.02000000', '5. volume': '281.19770213'}, '2024-09-10': {'1. open': '51723.22000000', '2. high': '52649.00000000', '3. low': '51105.34000000', '4. close': '52311.79000000', '5. volume': '212.94548070'}, '2024-09-09': {'1. open': '49526.79000000', '2. high': '52624.00000000', '3. low': '49315.32000000', '4. close': '51718.32000000', '5. volume': '448.96083805'}, '2024-09-08': {'1. open': '48922.03000000', '2. high': '49905.18000000', '3. low': '48417.29000000', '4. close': '49505.02000000', '5. volume': '188.58514830'}, '2024-09-07': {'1. open': '48768.11000000', '2. high': '49585.80000000', '3. low': '48548.32000000', '4. close': '48900.38000000', '5. volume': '218.48358020'}, '2024-09-06': {'1. open': '50560.77000000', '2. high': '51382.12000000', '3. low': '47428.66000000', '4. close': '48768.11000000', '5. volume': '631.99766844'}, '2024-09-05': {'1. open': '52320.31000000', '2. high': '52652.63000000', '3. low': '50084.23000000', '4. close': '50556.80000000', '5. volume': '241.17270351'}, '2024-09-04': {'1. open': '52036.77000000', '2. high': '52835.55000000', '3. low': '50354.20000000', '4. close': '52323.86000000', '5. volume': '397.29997213'}, '2024-09-03': {'1. open': '53444.24000000', '2. high': '54065.45000000', '3. low': '51964.87000000', '4. close': '52033.15000000', '5. volume': '287.13574297'}, '2024-09-02': {'1. open': '51911.95000000', '2. high': '53700.00000000', '3. low': '51709.51000000', '4. close': '53430.92000000', '5. volume': '233.61573622'}, '2024-09-01': {'1. open': '53385.08000000', '2. high': '53476.90000000', '3. low': '51802.75000000', '4. close': '51931.36000000', '5. volume': '203.81632762'}, '2024-08-31': {'1. open': '53553.35000000', '2. high': '53855.82000000', '3. low': '53200.00000000', '4. close': '53405.31000000', '5. volume': '60.22093735'}, '2024-08-30': {'1. open': '53585.98000000', '2. high': '54096.18000000', '3. low': '52280.00000000', '4. close': '53546.16000000', '5. volume': '231.76194306'}, '2024-08-29': {'1. open': '53109.73000000', '2. high': '55248.92000000', '3. low': '52921.58000000', '4. close': '53604.00000000', '5. volume': '286.41399895'}, '2024-08-28': {'1. open': '53225.11000000', '2. high': '54189.93000000', '3. low': '52100.00000000', '4. close': '53088.39000000', '5. volume': '326.99133822'}, '2024-08-27': {'1. open': '56289.73000000', '2. high': '56613.32000000', '3. low': '51950.00000000', '4. close': '53225.98000000', '5. volume': '464.08729339'}, '2024-08-26': {'1. open': '57406.50000000', '2. high': '57632.29000000', '3. low': '56256.75000000', '4. close': '56298.34000000', '5. volume': '303.87103799'}, '2024-08-25': {'1. open': '57272.31000000', '2. high': '58113.94000000', '3. low': '56905.96000000', '4. close': '57402.19000000', '5. volume': '167.58380223'}, '2024-08-24': {'1. open': '57301.11000000', '2. high': '57632.96000000', '3. low': '56735.97000000', '4. close': '57269.55000000', '5. volume': '151.91637930'}, '2024-08-23': {'1. open': '54311.20000000', '2. high': '58047.53000000', '3. low': '54311.19000000', '4. close': '57308.88000000', '5. volume': '447.89770675'}, '2024-08-22': {'1. open': '54830.06000000', '2. high': '55146.00000000', '3. low': '53625.00000000', '4. close': '54327.75000000', '5. volume': '345.61932192'}, '2024-08-21': {'1. open': '53062.12000000', '2. high': '55458.37000000', '3. low': '52862.69000000', '4. close': '54841.80000000', '5. volume': '371.62377308'}, '2024-08-20': {'1. open': '53657.34000000', '2. high': '55469.03000000', '3. low': '52747.33000000', '4. close': '53076.19000000', '5. volume': '301.28743363'}, '2024-08-19': {'1. open': '53049.34000000', '2. high': '53800.00000000', '3. low': '52408.27000000', '4. close': '53652.29000000', '5. volume': '224.94083142'}, '2024-08-18': {'1. open': '54009.94000000', '2. high': '54688.34000000', '3. low': '53019.52000000', '4. close': '53046.89000000', '5. volume': '130.08025933'}, '2024-08-17': {'1. open': '53452.49000000', '2. high': '54194.89000000', '3. low': '53380.64000000', '4. close': '54000.00000000', '5. volume': '74.08506959'}, '2024-08-16': {'1. open': '52501.36000000', '2. high': '54340.13000000', '3. low': '52064.92000000', '4. close': '53464.65000000', '5. volume': '253.81422526'}, '2024-08-15': {'1. open': '53326.55000000', '2. high': '54508.09000000', '3. low': '51195.03000000', '4. close': '52491.11000000', '5. volume': '424.84476460'}, '2024-08-14': {'1. open': '55146.13000000', '2. high': '56081.19000000', '3. low': '53100.00000000', '4. close': '53328.00000000', '5. volume': '308.51748484'}, '2024-08-13': {'1. open': '54312.58000000', '2. high': '56141.89000000', '3. low': '53510.41000000', '4. close': '55129.90000000', '5. volume': '286.50224950'}, '2024-08-12': {'1. open': '53822.14000000', '2. high': '55555.00000000', '3. low': '52780.03000000', '4. close': '54307.22000000', '5. volume': '359.11681215'}, '2024-08-11': {'1. open': '55860.58000000', '2. high': '56707.04000000', '3. low': '53436.91000000', '4. close': '53835.66000000', '5. volume': '239.45474186'}, '2024-08-10': {'1. open': '55800.62000000', '2. high': '56358.00000000', '3. low': '55240.07000000', '4. close': '55859.19000000', '5. volume': '135.27159029'}, '2024-08-09': {'1. open': '56546.67000000', '2. high': '56593.13000000', '3. low': '54533.74000000', '4. close': '55789.08000000', '5. volume': '313.86928219'}, '2024-08-08': {'1. open': '50512.15000000', '2. high': '57499.00000000', '3. low': '50129.82000000', '4. close': '56542.08000000', '5. volume': '460.84007542'}, '2024-08-07': {'1. open': '51369.66000000', '2. high': '52950.00000000', '3. low': '50010.13000000', '4. close': '50495.77000000', '5. volume': '549.41047371'}, '2024-08-06': {'1. open': '49417.12000000', '2. high': '52299.98000000', '3. low': '49371.86000000', '4. close': '51374.96000000', '5. volume': '963.93343161'}, '2024-08-05': {'1. open': '53330.01000000', '2. high': '53448.81000000', '3. low': '45021.36000000', '4. close': '49408.05000000', '5. volume': '3196.63707067'}, '2024-08-04': {'1. open': '55719.17000000', '2. high': '56131.17000000', '3. low': '52521.27000000', '4. close': '53309.69000000', '5. volume': '1023.84859285'}, '2024-08-03': {'1. open': '56352.63000000', '2. high': '57110.64000000', '3. low': '55000.00000000', '4. close': '55717.27000000', '5. volume': '553.06040776'}, '2024-08-02': {'1. open': '60555.08000000', '2. high': '60794.76000000', '3. low': '56100.00000000', '4. close': '56347.78000000', '5. volume': '473.47114375'}, '2024-08-01': {'1. open': '59709.38000000', '2. high': '60811.58000000', '3. low': '57709.31000000', '4. close': '60559.44000000', '5. volume': '417.82100327'}, '2024-07-31': {'1. open': '61184.48000000', '2. high': '61804.95000000', '3. low': '59604.99000000', '4. close': '59715.77000000', '5. volume': '336.73080284'}, '2024-07-30': {'1. open': '61701.63000000', '2. high': '61910.98000000', '3. low': '60411.71000000', '4. close': '61177.08000000', '5. volume': '290.33895527'}, '2024-07-29': {'1. open': '62866.50000000', '2. high': '64749.00000000', '3. low': '61368.32000000', '4. close': '61700.00000000', '5. volume': '427.70514922'}, '2024-07-28': {'1. open': '62490.46000000', '2. high': '62887.22000000', '3. low': '61744.87000000', '4. close': '62854.02000000', '5. volume': '107.12922846'}, '2024-07-27': {'1. open': '62561.24000000', '2. high': '63876.72000000', '3. low': '61400.00000000', '4. close': '62488.02000000', '5. volume': '292.01454843'}, '2024-07-26': {'1. open': '60652.22000000', '2. high': '62830.25000000', '3. low': '60571.05000000', '4. close': '62563.79000000', '5. volume': '323.17954685'}, '2024-07-25': {'1. open': '60318.31000000', '2. high': '61004.00000000', '3. low': '58512.00000000', '4. close': '60650.01000000', '5. volume': '335.29952639'}, '2024-07-24': {'1. open': '60766.59000000', '2. high': '61800.00000000', '3. low': '60065.73000000', '4. close': '60333.99000000', '5. volume': '240.22230240'}, '2024-07-23': {'1. open': '62026.78000000', '2. high': '62220.35000000', '3. low': '60224.14000000', '4. close': '60755.96000000', '5. volume': '292.25848749'}, '2024-07-22': {'1. open': '62526.97000000', '2. high': '62821.99000000', '3. low': '61166.88000000', '4. close': '62030.69000000', '5. volume': '250.65858945'}, '2024-07-21': {'1. open': '61646.16000000', '2. high': '62721.17000000', '3. low': '60372.50000000', '4. close': '62529.01000000', '5. volume': '203.01047905'}, '2024-07-20': {'1. open': '61281.39000000', '2. high': '62064.88000000', '3. low': '60871.92000000', '4. close': '61651.61000000', '5. volume': '145.74291043'}, '2024-07-19': {'1. open': '58709.62000000', '2. high': '62000.00000000', '3. low': '58111.70000000', '4. close': '61283.57000000', '5. volume': '410.28483968'}, '2024-07-18': {'1. open': '58599.56000000', '2. high': '59624.66000000', '3. low': '58031.47000000', '4. close': '58699.58000000', '5. volume': '214.24423714'}, '2024-07-17': {'1. open': '59707.23000000', '2. high': '60675.00000000', '3. low': '58347.46000000', '4. close': '58600.56000000', '5. volume': '346.32186003'}, '2024-07-16': {'1. open': '59421.37000000', '2. high': '59998.99000000', '3. low': '57211.79000000', '4. close': '59699.03000000', '5. volume': '405.94613726'}, '2024-07-15': {'1. open': '55876.94000000', '2. high': '59585.00000000', '3. low': '55750.00000000', '4. close': '59432.32000000', '5. volume': '490.78590908'}, '2024-07-14': {'1. open': '54274.50000000', '2. high': '56400.63000000', '3. low': '54257.68000000', '4. close': '55876.86000000', '5. volume': '424.42726971'}, '2024-07-13': {'1. open': '53103.25000000', '2. high': '54863.10000000', '3. low': '52977.57000000', '4. close': '54274.18000000', '5. volume': '208.66300848'}, '2024-07-12': {'1. open': '52733.04000000', '2. high': '53662.74000000', '3. low': '52017.01000000', '4. close': '53109.92000000', '5. volume': '645.82671205'}, '2024-07-11': {'1. open': '53276.99000000', '2. high': '54744.40000000', '3. low': '52591.29000000', '4. close': '52728.22000000', '5. volume': '1016.80072263'}, '2024-07-10': {'1. open': '53663.86000000', '2. high': '54950.27000000', '3. low': '52789.11000000', '4. close': '53276.98000000', '5. volume': '605.65539207'}, '2024-07-09': {'1. open': '52267.68000000', '2. high': '53855.82000000', '3. low': '51865.03000000', '4. close': '53631.95000000', '5. volume': '1109.47042884'}, '2024-07-08': {'1. open': '51589.15000000', '2. high': '53655.00000000', '3. low': '50144.21000000', '4. close': '52254.91000000', '5. volume': '1457.34061510'}, '2024-07-07': {'1. open': '53664.31000000', '2. high': '53861.02000000', '3. low': '51450.59000000', '4. close': '51589.15000000', '5. volume': '293.21252865'}, '2024-07-06': {'1. open': '52267.47000000', '2. high': '53892.23000000', '3. low': '51726.29000000', '4. close': '53664.51000000', '5. volume': '707.35991637'}, '2024-07-05': {'1. open': '52790.03000000', '2. high': '53175.96000000', '3. low': '49437.20000000', '4. close': '52271.97000000', '5. volume': '1085.18051491'}, '2024-07-04': {'1. open': '55772.09000000', '2. high': '56001.96000000', '3. low': '52549.74000000', '4. close': '52790.43000000', '5. volume': '597.16889862'}, '2024-07-03': {'1. open': '57747.42000000', '2. high': '57888.74000000', '3. low': '55048.15000000', '4. close': '55766.78000000', '5. volume': '383.47526387'}, '2024-07-02': {'1. open': '58523.46000000', '2. high': '58894.41000000', '3. low': '57510.25000000', '4. close': '57733.05000000', '5. volume': '206.03530587'}, '2024-07-01': {'1. open': '58416.69000000', '2. high': '59467.74000000', '3. low': '58090.34000000', '4. close': '58527.56000000', '5. volume': '387.64433677'}, '2024-06-30': {'1. open': '56881.68000000', '2. high': '58647.31000000', '3. low': '56625.31000000', '4. close': '58407.41000000', '5. volume': '155.48993236'}, '2024-06-29': {'1. open': '56345.64000000', '2. high': '57117.87000000', '3. low': '56307.44000000', '4. close': '56888.03000000', '5. volume': '136.28146021'}, '2024-06-28': {'1. open': '57546.99000000', '2. high': '58162.14000000', '3. low': '55965.89000000', '4. close': '56344.17000000', '5. volume': '286.13125887'}, '2024-06-27': {'1. open': '56946.44000000', '2. high': '58164.61000000', '3. low': '56622.20000000', '4. close': '57545.90000000', '5. volume': '263.66774666'}, '2024-06-26': {'1. open': '57713.47000000', '2. high': '58294.10000000', '3. low': '56800.20000000', '4. close': '56935.04000000', '5. volume': '341.91484885'}, '2024-06-25': {'1. open': '56169.13000000', '2. high': '58215.85000000', '3. low': '56122.32000000', '4. close': '57713.87000000', '5. volume': '570.89956745'}, '2024-06-24': {'1. open': '59127.81000000', '2. high': '59261.30000000', '3. low': '54419.19000000', '4. close': '56186.44000000', '5. volume': '697.40788768'}, '2024-06-23': {'1. open': '59996.32000000', '2. high': '60246.86000000', '3. low': '59085.16000000', '4. close': '59107.12000000', '5. volume': '89.24138584'}, '2024-06-22': {'1. open': '59995.39000000', '2. high': '60336.51000000', '3. low': '59797.74000000', '4. close': '59992.10000000', '5. volume': '74.27808157'}, '2024-06-21': {'1. open': '60577.71000000', '2. high': '60719.65000000', '3. low': '59287.61000000', '4. close': '59987.59000000', '5. volume': '270.54473097'}, '2024-06-20': {'1. open': '60466.69000000', '2. high': '61937.39000000', '3. low': '60249.86000000', '4. close': '60550.86000000', '5. volume': '323.10050356'}, '2024-06-19': {'1. open': '60698.63000000', '2. high': '61218.74000000', '3. low': '60200.01000000', '4. close': '60456.22000000', '5. volume': '168.56697690'}, '2024-06-18': {'1. open': '61908.22000000', '2. high': '61988.95000000', '3. low': '59654.85000000', '4. close': '60685.06000000', '5. volume': '363.99799435'}, '2024-06-17': {'1. open': '62279.16000000', '2. high': '62696.68000000', '3. low': '60710.72000000', '4. close': '61904.82000000', '5. volume': '236.82698332'}, '2024-06-16': {'1. open': '61832.47000000', '2. high': '62539.34000000', '3. low': '61687.66000000', '4. close': '62262.17000000', '5. volume': '97.60381266'}, '2024-06-15': {'1. open': '61752.49000000', '2. high': '62111.00000000', '3. low': '61494.65000000', '4. close': '61829.19000000', '5. volume': '90.88944269'}, '2024-06-14': {'1. open': '62189.17000000', '2. high': '63090.90000000', '3. low': '60801.06000000', '4. close': '61747.33000000', '5. volume': '300.22901419'}, '2024-06-13': {'1. open': '63136.04000000', '2. high': '63396.45000000', '3. low': '61617.67000000', '4. close': '62171.28000000', '5. volume': '253.89933232'}, '2024-06-12': {'1. open': '62719.92000000', '2. high': '64579.89000000', '3. low': '62243.20000000', '4. close': '63140.41000000', '5. volume': '352.66408515'}, '2024-06-11': {'1. open': '64528.44000000', '2. high': '64588.76000000', '3. low': '61507.14000000', '4. close': '62726.38000000', '5. volume': '530.41475073'}, '2024-06-10': {'1. open': '64664.14000000', '2. high': '65298.24000000', '3. low': '64320.22000000', '4. close': '64535.72000000', '5. volume': '200.93621452'}, '2024-06-09': {'1. open': '64277.11000000', '2. high': '64842.00000000', '3. low': '64066.62000000', '4. close': '64648.18000000', '5. volume': '159.25443232'}, '2024-06-08': {'1. open': '64257.12000000', '2. high': '64500.00000000', '3. low': '64096.56000000', '4. close': '64278.15000000', '5. volume': '126.90552547'}, '2024-06-07': {'1. open': '64985.78000000', '2. high': '66132.47000000', '3. low': '63309.84000000', '4. close': '64258.71000000', '5. volume': '352.28449963'}, '2024-06-06': {'1. open': '65358.06000000', '2. high': '65766.87000000', '3. low': '64380.61000000', '4. close': '64984.68000000', '5. volume': '283.87105652'}, '2024-06-05': {'1. open': '64789.75000000', '2. high': '66063.64000000', '3. low': '64688.44000000', '4. close': '65357.71000000', '5. volume': '335.41897846'}, '2024-06-04': {'1. open': '63089.34000000', '2. high': '65294.96000000', '3. low': '62931.48000000', '4. close': '64777.18000000', '5. volume': '328.10654650'}, '2024-06-03': {'1. open': '62428.48000000', '2. high': '64762.10000000', '3. low': '62283.90000000', '4. close': '63080.70000000', '5. volume': '304.92947467'}, '2024-06-02': {'1. open': '62445.22000000', '2. high': '63050.23000000', '3. low': '62026.91000000', '4. close': '62452.47000000', '5. volume': '118.29560654'}, '2024-06-01': {'1. open': '62234.29000000', '2. high': '62561.82000000', '3. low': '62130.99000000', '4. close': '62441.25000000', '5. volume': '87.06024806'}, '2024-05-31': {'1. open': '63105.19000000', '2. high': '63537.51000000', '3. low': '61440.00000000', '4. close': '62230.86000000', '5. volume': '277.52115562'}, '2024-05-30': {'1. open': '62551.71000000', '2. high': '64124.08000000', '3. low': '62068.52000000', '4. close': '63095.75000000', '5. volume': '268.44322450'}, '2024-05-29': {'1. open': '62968.22000000', '2. high': '63480.38000000', '3. low': '62062.99000000', '4. close': '62548.69000000', '5. volume': '230.22853881'}, '2024-05-28': {'1. open': '63874.98000000', '2. high': '63968.61000000', '3. low': '61900.00000000', '4. close': '62969.80000000', '5. volume': '340.08480991'}, '2024-05-27': {'1. open': '63145.80000000', '2. high': '64989.91000000', '3. low': '62808.92000000', '4. close': '63872.07000000', '5. volume': '236.89637878'}, '2024-05-26': {'1. open': '63921.45000000', '2. high': '64114.63000000', '3. low': '62843.54000000', '4. close': '63138.93000000', '5. volume': '102.45131389'}, '2024-05-25': {'1. open': '63249.14000000', '2. high': '64198.39000000', '3. low': '63196.06000000', '4. close': '63939.25000000', '5. volume': '103.66428959'}, '2024-05-24': {'1. open': '62839.02000000', '2. high': '63878.65000000', '3. low': '61540.66000000', '4. close': '63232.74000000', '5. volume': '245.38978772'}, '2024-05-23': {'1. open': '63816.00000000', '2. high': '64541.13000000', '3. low': '61333.00000000', '4. close': '62836.76000000', '5. volume': '470.83392201'}, '2024-05-22': {'1. open': '64375.99000000', '2. high': '65138.74000000', '3. low': '63653.03000000', '4. close': '63816.00000000', '5. volume': '376.19678098'}, '2024-05-21': {'1. open': '65521.16000000', '2. high': '65933.02000000', '3. low': '63494.57000000', '4. close': '64375.99000000', '5. volume': '628.58154046'}, '2024-05-20': {'1. open': '60930.51000000', '2. high': '65700.00000000', '3. low': '60750.00000000', '4. close': '65521.16000000', '5. volume': '542.13763679'}, '2024-05-19': {'1. open': '61588.52000000', '2. high': '62261.43000000', '3. low': '60587.46000000', '4. close': '60927.75000000', '5. volume': '202.69537382'}, '2024-05-18': {'1. open': '61685.45000000', '2. high': '62012.19000000', '3. low': '61300.00000000', '4. close': '61579.64000000', '5. volume': '194.99132039'}, '2024-05-17': {'1. open': '60030.50000000', '2. high': '62081.49000000', '3. low': '59963.62000000', '4. close': '61687.99000000', '5. volume': '323.11749946'}, '2024-05-16': {'1. open': '60779.28000000', '2. high': '61400.00000000', '3. low': '59000.00000000', '4. close': '60018.57000000', '5. volume': '394.26686267'}, '2024-05-15': {'1. open': '56924.68000000', '2. high': '61022.00000000', '3. low': '56680.09000000', '4. close': '60777.05000000', '5. volume': '383.64791289'}, '2024-05-14': {'1. open': '58298.94000000', '2. high': '58478.73000000', '3. low': '56500.00000000', '4. close': '56924.05000000', '5. volume': '320.35856449'}, '2024-05-13': {'1. open': '57085.97000000', '2. high': '58770.58000000', '3. low': '56418.03000000', '4. close': '58293.80000000', '5. volume': '325.85438232'}, '2024-05-12': {'1. open': '56516.31000000', '2. high': '57435.99000000', '3. low': '56299.00000000', '4. close': '57075.98000000', '5. volume': '123.98655238'}, '2024-05-11': {'1. open': '56524.04000000', '2. high': '57167.19000000', '3. low': '56208.31000000', '4. close': '56496.94000000', '5. volume': '198.07642651'}, '2024-05-10': {'1. open': '58522.09000000', '2. high': '58882.51000000', '3. low': '55876.05000000', '4. close': '56514.18000000', '5. volume': '447.06249428'}, '2024-05-09': {'1. open': '56941.52000000', '2. high': '58835.13000000', '3. low': '56459.29000000', '4. close': '58521.43000000', '5. volume': '279.82735664'}, '2024-05-08': {'1. open': '57978.20000000', '2. high': '58657.29000000', '3. low': '56638.90000000', '4. close': '56949.08000000', '5. volume': '357.82329052'}, '2024-05-07': {'1. open': '58671.32000000', '2. high': '59857.37000000', '3. low': '57920.00000000', '4. close': '57961.38000000', '5. volume': '305.09384379'}, '2024-05-06': {'1. open': '59515.05000000', '2. high': '60834.00000000', '3. low': '58239.85000000', '4. close': '58681.47000000', '5. volume': '415.09319745'}, '2024-05-05': {'1. open': '59398.45000000', '2. high': '60038.98000000', '3. low': '58461.27000000', '4. close': '59506.98000000', '5. volume': '231.06694571'}, '2024-05-04': {'1. open': '58509.32000000', '2. high': '59999.00000000', '3. low': '58165.60000000', '4. close': '59392.98000000', '5. volume': '274.70356453'}, '2024-05-03': {'1. open': '55076.36000000', '2. high': '58931.62000000', '3. low': '54811.98000000', '4. close': '58507.14000000', '5. volume': '502.09441795'}, '2024-05-02': {'1. open': '54378.17000000', '2. high': '55643.98000000', '3. low': '53121.21000000', '4. close': '55082.13000000', '5. volume': '635.05368310'}, '2024-05-01': {'1. open': '56844.50000000', '2. high': '56991.58000000', '3. low': '52943.49000000', '4. close': '54372.60000000', '5. volume': '1258.79096130'}, '2024-04-30': {'1. open': '59581.09000000', '2. high': '60365.57000000', '3. low': '55311.31000000', '4. close': '56852.18000000', '5. volume': '772.86685399'}, '2024-04-29': {'1. open': '58965.50000000', '2. high': '59875.00000000', '3. low': '57745.77000000', '4. close': '59549.34000000', '5. volume': '503.46241480'}, '2024-04-28': {'1. open': '59364.36000000', '2. high': '60136.13000000', '3. low': '58647.82000000', '4. close': '58947.56000000', '5. volume': '181.01826606'}, '2024-04-27': {'1. open': '59639.85000000', '2. high': '59793.40000000', '3. low': '58411.49000000', '4. close': '59364.40000000', '5. volume': '226.12657975'}, '2024-04-26': {'1. open': '60143.74000000', '2. high': '60545.76000000', '3. low': '59242.36000000', '4. close': '59635.80000000', '5. volume': '354.61187190'}, '2024-04-25': {'1. open': '60074.92000000', '2. high': '60867.16000000', '3. low': '58755.00000000', '4. close': '60126.24000000', '5. volume': '389.91996958'}, '2024-04-24': {'1. open': '62060.81000000', '2. high': '62678.55000000', '3. low': '59418.00000000', '4. close': '60083.17000000', '5. volume': '431.91218967'}, '2024-04-23': {'1. open': '62755.47000000', '2. high': '63046.18000000', '3. low': '61693.41000000', '4. close': '62068.17000000', '5. volume': '386.33059160'}, '2024-04-22': {'1. open': '60985.08000000', '2. high': '63134.63000000', '3. low': '60520.08000000', '4. close': '62755.47000000', '5. volume': '428.47715681'}, '2024-04-21': {'1. open': '61073.94000000', '2. high': '61721.09000000', '3. low': '60349.25000000', '4. close': '60953.54000000', '5. volume': '274.07021648'}, '2024-04-20': {'1. open': '59992.83000000', '2. high': '61521.37000000', '3. low': '59310.61000000', '4. close': '61075.19000000', '5. volume': '334.26412593'}, '2024-04-19': {'1. open': '59713.79000000', '2. high': '61521.37000000', '3. low': '56170.00000000', '4. close': '59991.74000000', '5. volume': '918.21029260'}, '2024-04-18': {'1. open': '57485.45000000', '2. high': '60263.09000000', '3. low': '56917.92000000', '4. close': '59694.80000000', '5. volume': '565.62223035'}, '2024-04-17': {'1. open': '60115.61000000', '2. high': '60782.51000000', '3. low': '56129.00000000', '4. close': '57485.91000000', '5. volume': '987.19193770'}, '2024-04-16': {'1. open': '59769.15000000', '2. high': '60682.79000000', '3. low': '58042.43000000', '4. close': '60117.86000000', '5. volume': '762.53253187'}, '2024-04-15': {'1. open': '61870.64000000', '2. high': '62869.53000000', '3. low': '58717.47000000', '4. close': '59747.50000000', '5. volume': '1009.51373592'}, '2024-04-14': {'1. open': '61005.18000000', '2. high': '62043.20000000', '3. low': '59021.70000000', '4. close': '61867.60000000', '5. volume': '760.75833798'}, '2024-04-13': {'1. open': '63330.19000000', '2. high': '64027.39000000', '3. low': '57251.00000000', '4. close': '61007.42000000', '5. volume': '1559.92725418'}, '2024-04-12': {'1. open': '65281.03000000', '2. high': '66588.53000000', '3. low': '61300.00000000', '4. close': '63328.63000000', '5. volume': '984.35762317'}, '2024-04-11': {'1. open': '65773.86000000', '2. high': '66369.00000000', '3. low': '64846.83000000', '4. close': '65278.57000000', '5. volume': '383.48269915'}, '2024-04-10': {'1. open': '63684.68000000', '2. high': '66222.00000000', '3. low': '62636.91000000', '4. close': '65761.16000000', '5. volume': '444.69384970'}, '2024-04-09': {'1. open': '65894.26000000', '2. high': '66017.61000000', '3. low': '62881.66000000', '4. close': '63710.86000000', '5. volume': '508.61027479'}, '2024-04-08': {'1. open': '64046.80000000', '2. high': '67094.17000000', '3. low': '63770.22000000', '4. close': '65914.02000000', '5. volume': '566.93663259'}, '2024-04-07': {'1. open': '63618.34000000', '2. high': '64849.98000000', '3. low': '63525.00000000', '4. close': '64048.85000000', '5. volume': '219.83451485'}, '2024-04-06': {'1. open': '62640.42000000', '2. high': '64318.25000000', '3. low': '62283.52000000', '4. close': '63613.31000000', '5. volume': '181.73176199'}, '2024-04-05': {'1. open': '63272.08000000', '2. high': '63464.37000000', '3. low': '61077.30000000', '4. close': '62635.57000000', '5. volume': '457.05471445'}, '2024-04-04': {'1. open': '60962.64000000', '2. high': '63919.68000000', '3. low': '60089.91000000', '4. close': '63262.09000000', '5. volume': '453.02671506'}, '2024-04-03': {'1. open': '60868.59000000', '2. high': '61980.00000000', '3. low': '60000.00000000', '4. close': '60944.89000000', '5. volume': '512.74702544'}, '2024-04-02': {'1. open': '64905.24000000', '2. high': '64940.52000000', '3. low': '60011.64000000', '4. close': '60853.75000000', '5. volume': '1100.29393570'}, '2024-04-01': {'1. open': '66093.32000000', '2. high': '66101.60000000', '3. low': '63422.75000000', '4. close': '64909.14000000', '5. volume': '374.26140114'}, '2024-03-31': {'1. open': '64582.40000000', '2. high': '66193.77000000', '3. low': '64551.58000000', '4. close': '66099.78000000', '5. volume': '191.18973257'}, '2024-03-30': {'1. open': '64800.06000000', '2. high': '65187.26000000', '3. low': '64531.79000000', '4. close': '64567.04000000', '5. volume': '128.52661545'}, '2024-03-29': {'1. open': '65609.90000000', '2. high': '65784.03000000', '3. low': '64000.00000000', '4. close': '64804.53000000', '5. volume': '258.96970172'}, '2024-03-28': {'1. open': '64228.88000000', '2. high': '66265.73000000', '3. low': '63636.15000000', '4. close': '65616.11000000', '5. volume': '372.85584733'}, '2024-03-27': {'1. open': '64592.34000000', '2. high': '66339.18000000', '3. low': '63188.14000000', '4. close': '64187.14000000', '5. volume': '723.56355016'}, '2024-03-26': {'1. open': '64440.88000000', '2. high': '65971.86000000', '3. low': '63893.68000000', '4. close': '64578.78000000', '5. volume': '462.38197499'}, '2024-03-25': {'1. open': '62194.73000000', '2. high': '65689.95000000', '3. low': '61391.43000000', '4. close': '64434.81000000', '5. volume': '786.75081788'}, '2024-03-24': {'1. open': '59269.04000000', '2. high': '62558.63000000', '3. low': '59058.70000000', '4. close': '62197.99000000', '5. volume': '354.37775492'}, '2024-03-23': {'1. open': '59121.32000000', '2. high': '61146.40000000', '3. low': '58377.10000000', '4. close': '59270.27000000', '5. volume': '308.58241208'}, '2024-03-22': {'1. open': '60314.15000000', '2. high': '61527.63000000', '3. low': '57723.98000000', '4. close': '59092.76000000', '5. volume': '778.44754940'}, '2024-03-21': {'1. open': '62098.75000000', '2. high': '62450.49000000', '3. low': '59452.00000000', '4. close': '60311.85000000', '5. volume': '792.84807062'}, '2024-03-20': {'1. open': '57002.05000000', '2. high': '62418.00000000', '3. low': '55904.42000000', '4. close': '62104.86000000', '5. volume': '1320.89865175'}, '2024-03-19': {'1. open': '62150.25000000', '2. high': '62630.24000000', '3. low': '56617.26000000', '4. close': '56992.73000000', '5. volume': '1643.82438685'}, '2024-03-18': {'1. open': '62809.05000000', '2. high': '63323.33000000', '3. low': '61175.19000000', '4. close': '62167.44000000', '5. volume': '686.58471196'}, '2024-03-17': {'1. open': '59904.58000000', '2. high': '63275.93000000', '3. low': '59147.18000000', '4. close': '62799.62000000', '5. volume': '848.16305427'}, '2024-03-16': {'1. open': '63883.90000000', '2. high': '64377.91000000', '3. low': '59470.50000000', '4. close': '59904.06000000', '5. volume': '703.58792108'}, '2024-03-15': {'1. open': '65632.21000000', '2. high': '66573.90000000', '3. low': '60178.01000000', '4. close': '63873.31000000', '5. volume': '1580.24010395'}, '2024-03-14': {'1. open': '66773.00000000', '2. high': '67467.86000000', '3. low': '62942.02000000', '4. close': '65631.65000000', '5. volume': '1111.71424647'}, '2024-03-13': {'1. open': '65411.00000000', '2. high': '67437.05000000', '3. low': '65279.06000000', '4. close': '66772.14000000', '5. volume': '703.39502589'}, '2024-03-12': {'1. open': '65704.92000000', '2. high': '66943.61000000', '3. low': '62952.84000000', '4. close': '65424.91000000', '5. volume': '1000.88978827'}, '2024-03-11': {'1. open': '63085.63000000', '2. high': '66498.88000000', '3. low': '61332.21000000', '4. close': '65689.34000000', '5. volume': '1005.81234192'}, '2024-03-10': {'1. open': '62549.27000000', '2. high': '63945.01000000', '3. low': '62334.78000000', '4. close': '63064.25000000', '5. volume': '414.00852885'}, '2024-03-09': {'1. open': '62414.69000000', '2. high': '62799.99000000', '3. low': '62168.35000000', '4. close': '62553.18000000', '5. volume': '217.19679871'}, '2024-03-08': {'1. open': '61043.74000000', '2. high': '64012.00000000', '3. low': '60410.00000000', '4. close': '62408.25000000', '5. volume': '764.59105869'}, '2024-03-07': {'1. open': '60635.54000000', '2. high': '62320.76000000', '3. low': '60133.38000000', '4. close': '61027.58000000', '5. volume': '594.19610322'}, '2024-03-06': {'1. open': '58825.04000000', '2. high': '62297.53000000', '3. low': '57910.32000000', '4. close': '60629.09000000', '5. volume': '823.94642282'}, '2024-03-05': {'1. open': '62779.25000000', '2. high': '63600.00000000', '3. low': '48500.00000000', '4. close': '58821.41000000', '5. volume': '2198.24205859'}, '2024-03-04': {'1. open': '58226.26000000', '2. high': '62960.00000000', '3. low': '57439.00000000', '4. close': '62779.25000000', '5. volume': '1449.33430287'}, '2024-03-03': {'1. open': '57224.17000000', '2. high': '58328.78000000', '3. low': '56628.55000000', '4. close': '58227.89000000', '5. volume': '309.28890918'}, '2024-03-02': {'1. open': '57565.56000000', '2. high': '57627.13000000', '3. low': '56837.19000000', '4. close': '57211.22000000', '5. volume': '261.24992375'}, '2024-03-01': {'1. open': '56509.14000000', '2. high': '58300.00000000', '3. low': '56106.21000000', '4. close': '57572.75000000', '5. volume': '649.14989943'}, '2024-02-29': {'1. open': '57472.17000000', '2. high': '58640.40000000', '3. low': '55753.70000000', '4. close': '56477.23000000', '5. volume': '1065.49802200'}, '2024-02-28': {'1. open': '52600.59000000', '2. high': '59097.20000000', '3. low': '52309.80000000', '4. close': '57460.80000000', '5. volume': '1487.12728374'}, '2024-02-27': {'1. open': '49978.02000000', '2. high': '53063.37000000', '3. low': '49978.02000000', '4. close': '52587.36000000', '5. volume': '853.57840760'}, '2024-02-26': {'1. open': '47818.86000000', '2. high': '50487.20000000', '3. low': '46932.18000000', '4. close': '49979.74000000', '5. volume': '644.68082895'}, '2024-02-25': {'1. open': '47632.45000000', '2. high': '47979.99000000', '3. low': '47395.70000000', '4. close': '47803.84000000', '5. volume': '180.67373572'}, '2024-02-24': {'1. open': '46883.14000000', '2. high': '47757.48000000', '3. low': '46732.47000000', '4. close': '47632.45000000', '5. volume': '160.86393428'}, '2024-02-23': {'1. open': '47370.10000000', '2. high': '47589.09000000', '3. low': '46677.17000000', '4. close': '46873.10000000', '5. volume': '347.17726725'}, '2024-02-22': {'1. open': '47938.77000000', '2. high': '48117.60000000', '3. low': '47024.34000000', '4. close': '47359.21000000', '5. volume': '427.09798542'}, '2024-02-21': {'1. open': '48366.57000000', '2. high': '48474.07000000', '3. low': '46878.06000000', '4. close': '47938.43000000', '5. volume': '444.01980631'}, '2024-02-20': {'1. open': '48063.67000000', '2. high': '49025.00000000', '3. low': '46986.06000000', '4. close': '48364.32000000', '5. volume': '611.91851120'}, '2024-02-19': {'1. open': '48369.79000000', '2. high': '48706.16000000', '3. low': '47962.97000000', '4. close': '48056.14000000', '5. volume': '432.82093359'}, '2024-02-18': {'1. open': '47964.57000000', '2. high': '48642.33000000', '3. low': '47519.42000000', '4. close': '48354.00000000', '5. volume': '237.63179525'}, '2024-02-17': {'1. open': '48410.66000000', '2. high': '48458.09000000', '3. low': '46957.52000000', '4. close': '47959.18000000', '5. volume': '415.62814737'}, '2024-02-16': {'1. open': '48198.71000000', '2. high': '48950.00000000', '3. low': '47910.97000000', '4. close': '48405.14000000', '5. volume': '509.08758712'}, '2024-02-15': {'1. open': '48299.88000000', '2. high': '49068.78000000', '3. low': '47672.54000000', '4. close': '48194.01000000', '5. volume': '838.80532868'}, '2024-02-14': {'1. open': '46440.04000000', '2. high': '48599.40000000', '3. low': '45995.64000000', '4. close': '48300.68000000', '5. volume': '821.35946398'}, '2024-02-13': {'1. open': '46210.36000000', '2. high': '46661.94000000', '3. low': '45085.10000000', '4. close': '46434.80000000', '5. volume': '640.41108637'}, '2024-02-12': {'1. open': '44569.87000000', '2. high': '46692.70000000', '3. low': '44133.62000000', '4. close': '46210.59000000', '5. volume': '857.91750188'}, '2024-02-11': {'1. open': '44034.81000000', '2. high': '44653.24000000', '3. low': '43868.85000000', '4. close': '44552.73000000', '5. volume': '315.15008875'}, '2024-02-10': {'1. open': '43140.66000000', '2. high': '44400.00000000', '3. low': '42794.10000000', '4. close': '44027.18000000', '5. volume': '406.57912918'}, '2024-02-09': {'1. open': '42025.18000000', '2. high': '44598.99000000', '3. low': '41992.67000000', '4. close': '43124.72000000', '5. volume': '823.95348518'}, '2024-02-08': {'1. open': '41133.90000000', '2. high': '42308.54000000', '3. low': '41118.48000000', '4. close': '42012.50000000', '5. volume': '454.20625106'}, '2024-02-07': {'1. open': '40070.02000000', '2. high': '41199.11000000', '3. low': '39752.84000000', '4. close': '41128.84000000', '5. volume': '375.21982565'}, '2024-02-06': {'1. open': '39736.46000000', '2. high': '40355.00000000', '3. low': '39591.11000000', '4. close': '40065.55000000', '5. volume': '255.90086225'}, '2024-02-05': {'1. open': '39502.82000000', '2. high': '40486.42000000', '3. low': '39209.28000000', '4. close': '39731.54000000', '5. volume': '318.08445442'}, '2024-02-04': {'1. open': '39864.34000000', '2. high': '39950.68000000', '3. low': '39154.49000000', '4. close': '39489.16000000', '5. volume': '168.68083541'}, '2024-02-03': {'1. open': '40010.18000000', '2. high': '40162.50000000', '3. low': '39739.32000000', '4. close': '39852.73000000', '5. volume': '109.33799414'}, '2024-02-02': {'1. open': '39628.64000000', '2. high': '40227.41000000', '3. low': '39328.63000000', '4. close': '40012.45000000', '5. volume': '283.62426731'}, '2024-02-01': {'1. open': '39403.42000000', '2. high': '39827.92000000', '3. low': '38738.07000000', '4. close': '39621.22000000', '5. volume': '413.92845202'}, '2024-01-31': {'1. open': '39634.04000000', '2. high': '40351.30000000', '3. low': '39100.00000000', '4. close': '39410.58000000', '5. volume': '542.94919408'}, '2024-01-30': {'1. open': '39979.26000000', '2. high': '40497.75000000', '3. low': '39383.70000000', '4. close': '39633.57000000', '5. volume': '448.09912086'}, '2024-01-29': {'1. open': '38774.95000000', '2. high': '40077.97000000', '3. low': '38620.34000000', '4. close': '39975.64000000', '5. volume': '468.82367944'}, '2024-01-28': {'1. open': '38848.94000000', '2. high': '39477.03000000', '3. low': '38384.28000000', '4. close': '38770.89000000', '5. volume': '251.82164524'}, '2024-01-27': {'1. open': '38562.43000000', '2. high': '38928.11000000', '3. low': '38155.34000000', '4. close': '38857.09000000', '5. volume': '183.88120856'}, '2024-01-26': {'1. open': '36853.93000000', '2. high': '38931.47000000', '3. low': '36740.98000000', '4. close': '38562.87000000', '5. volume': '553.72491938'}, '2024-01-25': {'1. open': '36845.20000000', '2. high': '37024.19000000', '3. low': '36448.01000000', '4. close': '36855.82000000', '5. volume': '350.07687683'}, '2024-01-24': {'1. open': '36770.49000000', '2. high': '37236.52000000', '3. low': '36254.69000000', '4. close': '36845.18000000', '5. volume': '669.25689196'}, '2024-01-23': {'1. open': '36345.19000000', '2. high': '36858.04000000', '3. low': '35455.56000000', '4. close': '36765.32000000', '5. volume': '844.33204031'}, '2024-01-22': {'1. open': '38174.41000000', '2. high': '38236.90000000', '3. low': '36138.33000000', '4. close': '36345.19000000', '5. volume': '876.86122511'}, '2024-01-21': {'1. open': '38280.44000000', '2. high': '38456.48000000', '3. low': '38108.08000000', '4. close': '38178.38000000', '5. volume': '103.40935595'}, '2024-01-20': {'1. open': '38239.70000000', '2. high': '38443.43000000', '3. low': '38058.69000000', '4. close': '38283.48000000', '5. volume': '150.32543212'}, '2024-01-19': {'1. open': '37998.87000000', '2. high': '38723.22000000', '3. low': '37000.00000000', '4. close': '38236.24000000', '5. volume': '536.44714448'}, '2024-01-18': {'1. open': '39276.18000000', '2. high': '39407.88000000', '3. low': '37379.64000000', '4. close': '37988.66000000', '5. volume': '718.50309977'}, '2024-01-17': {'1. open': '39675.59000000', '2. high': '39728.85000000', '3. low': '38849.96000000', '4. close': '39272.26000000', '5. volume': '405.98425404'}, '2024-01-16': {'1. open': '38854.04000000', '2. high': '40087.58000000', '3. low': '38700.00000000', '4. close': '39685.64000000', '5. volume': '386.11020222'}, '2024-01-15': {'1. open': '38125.62000000', '2. high': '39626.61000000', '3. low': '38111.56000000', '4. close': '38856.28000000', '5. volume': '565.02130209'}, '2024-01-14': {'1. open': '39205.76000000', '2. high': '39384.66000000', '3. low': '38107.26000000', '4. close': '38127.68000000', '5. volume': '382.57458439'}, '2024-01-13': {'1. open': '39150.25000000', '2. high': '39645.59000000', '3. low': '38799.22000000', '4. close': '39207.07000000', '5. volume': '468.52145693'}, '2024-01-12': {'1. open': '42225.03000000', '2. high': '42403.63000000', '3. low': '37900.00000000', '4. close': '39146.18000000', '5. volume': '1471.06363884'}, '2024-01-11': {'1. open': '42588.61000000', '2. high': '44887.99000000', '3. low': '41588.00000000', '4. close': '42227.19000000', '5. volume': '1639.99550313'}, '2024-01-10': {'1. open': '42250.10000000', '2. high': '43571.51000000', '3. low': '40529.96000000', '4. close': '42576.83000000', '5. volume': '1436.15821126'}, '2024-01-09': {'1. open': '42922.51000000', '2. high': '43977.39000000', '3. low': '41017.14000000', '4. close': '42224.79000000', '5. volume': '1282.63926189'}, '2024-01-08': {'1. open': '40212.32000000', '2. high': '43178.99000000', '3. low': '39534.33000000', '4. close': '42919.85000000', '5. volume': '1133.08295922'}, '2024-01-07': {'1. open': '40259.98000000', '2. high': '40730.42000000', '3. low': '39933.18000000', '4. close': '40205.88000000', '5. volume': '410.42694407'}, '2024-01-06': {'1. open': '40426.56000000', '2. high': '40484.98000000', '3. low': '39750.00000000', '4. close': '40264.14000000', '5. volume': '237.16452420'}, '2024-01-05': {'1. open': '40419.60000000', '2. high': '40675.80000000', '3. low': '38811.00000000', '4. close': '40424.44000000', '5. volume': '1089.89064410'}, '2024-01-04': {'1. open': '39325.86000000', '2. high': '40949.76000000', '3. low': '38999.00000000', '4. close': '40412.75000000', '5. volume': '874.41827334'}, '2024-01-03': {'1. open': '41126.14000000', '2. high': '41614.69000000', '3. low': '37350.00000000', '4. close': '39332.21000000', '5. volume': '1482.34923329'}, '2024-01-02': {'1. open': '40091.39000000', '2. high': '41912.00000000', '3. low': '40054.41000000', '4. close': '41120.45000000', '5. volume': '989.26435722'}, '2024-01-01': {'1. open': '38418.87000000', '2. high': '40100.00000000', '3. low': '38294.70000000', '4. close': '40090.38000000', '5. volume': '365.72069768'}, '2023-12-31': {'1. open': '38280.09000000', '2. high': '38948.18000000', '3. low': '38111.66000000', '4. close': '38427.75000000', '5. volume': '378.74827432'}, '2023-12-30': {'1. open': '38216.07000000', '2. high': '38682.77000000', '3. low': '37689.55000000', '4. close': '38278.51000000', '5. volume': '517.29575131'}, '2023-12-29': {'1. open': '38498.12000000', '2. high': '39067.83000000', '3. low': '37544.31000000', '4. close': '38217.53000000', '5. volume': '673.86755739'}, '2023-12-28': {'1. open': '39156.55000000', '2. high': '39449.76000000', '3. low': '38158.41000000', '4. close': '38495.00000000', '5. volume': '647.48504211'}, '2023-12-27': {'1. open': '38533.41000000', '2. high': '39386.00000000', '3. low': '38200.00000000', '4. close': '39151.63000000', '5. volume': '569.19493673'}}}\n"
     ]
    }
   ],
   "source": [
    "import requests\n",
    "\n",
    "# replace the \"demo\" apikey below with your own key from https://www.alphavantage.co/support/#api-key\n",
    "url = 'https://www.alphavantage.co/query?function=DIGITAL_CURRENCY_DAILY&symbol=BTC&market=EUR&apikey=9L9VOBDWJW11XG3K'\n",
    "response = requests.get(url)\n",
    "data = response.json()\n",
    "\n",
    "print(data)"
   ]
  },
  {
   "cell_type": "code",
   "execution_count": 21,
   "metadata": {},
   "outputs": [
    {
     "name": "stdout",
     "output_type": "stream",
     "text": [
      "Index(['1. open', '2. high', '3. low', '4. close', '5. volume'], dtype='object')\n",
      "        Date      Open (EUR)      High (EUR)       Low (EUR)     Close (EUR)  \\\n",
      "0 2024-12-10  92239.33000000  93082.80000000  92000.01000000  92692.36000000   \n",
      "1 2024-12-09  95662.16000000  95763.04000000  89217.53000000  92274.10000000   \n",
      "2 2024-12-08  94428.15000000  95908.70000000  93391.07000000  95685.97000000   \n",
      "3 2024-12-07  94435.53000000  95080.04000000  93383.71000000  94421.99000000   \n",
      "4 2024-12-06  91706.60000000  96591.42000000  91127.00000000  94436.71000000   \n",
      "\n",
      "     Open (USD)  \n",
      "0   26.58823172  \n",
      "1  552.52661383  \n",
      "2  168.88619671  \n",
      "3  197.26954813  \n",
      "4  542.64571223  \n"
     ]
    }
   ],
   "source": [
    "\n",
    "# Extract relevant data\n",
    "time_series = data.get('Time Series (Digital Currency Daily)', {})\n",
    "\n",
    "# Convert to DataFrame\n",
    "df = pd.DataFrame.from_dict(time_series, orient='index')\n",
    "\n",
    "# Inspect columns to ensure alignment\n",
    "print(df.columns)\n",
    "\n",
    "# Rename columns based on the actual data structure\n",
    "df.columns = [\n",
    "    \"Open (EUR)\", \"High (EUR)\", \"Low (EUR)\", \"Close (EUR)\",\n",
    "    \"Open (USD)\", \"High (USD)\", \"Low (USD)\", \"Close (USD)\",\n",
    "    \"Volume\", \"Market Cap\"\n",
    "][:len(df.columns)]  # Automatically adjust to match column count\n",
    "\n",
    "# Reset index to move the dates into a column\n",
    "df.reset_index(inplace=True)\n",
    "df.rename(columns={\"index\": \"Date\"}, inplace=True)\n",
    "\n",
    "# Convert Date column to datetime\n",
    "df['Date'] = pd.to_datetime(df['Date'])\n",
    "\n",
    "# Display the cleaned DataFrame\n",
    "print(df.head())\n"
   ]
  },
  {
   "cell_type": "code",
   "execution_count": 22,
   "metadata": {},
   "outputs": [
    {
     "data": {
      "text/html": [
       "<div>\n",
       "<style scoped>\n",
       "    .dataframe tbody tr th:only-of-type {\n",
       "        vertical-align: middle;\n",
       "    }\n",
       "\n",
       "    .dataframe tbody tr th {\n",
       "        vertical-align: top;\n",
       "    }\n",
       "\n",
       "    .dataframe thead th {\n",
       "        text-align: right;\n",
       "    }\n",
       "</style>\n",
       "<table border=\"1\" class=\"dataframe\">\n",
       "  <thead>\n",
       "    <tr style=\"text-align: right;\">\n",
       "      <th></th>\n",
       "      <th>Date</th>\n",
       "      <th>Open (EUR)</th>\n",
       "      <th>High (EUR)</th>\n",
       "      <th>Low (EUR)</th>\n",
       "      <th>Close (EUR)</th>\n",
       "      <th>Open (USD)</th>\n",
       "    </tr>\n",
       "  </thead>\n",
       "  <tbody>\n",
       "    <tr>\n",
       "      <th>320</th>\n",
       "      <td>2024-01-25</td>\n",
       "      <td>36845.20000000</td>\n",
       "      <td>37024.19000000</td>\n",
       "      <td>36448.01000000</td>\n",
       "      <td>36855.82000000</td>\n",
       "      <td>350.07687683</td>\n",
       "    </tr>\n",
       "    <tr>\n",
       "      <th>321</th>\n",
       "      <td>2024-01-24</td>\n",
       "      <td>36770.49000000</td>\n",
       "      <td>37236.52000000</td>\n",
       "      <td>36254.69000000</td>\n",
       "      <td>36845.18000000</td>\n",
       "      <td>669.25689196</td>\n",
       "    </tr>\n",
       "    <tr>\n",
       "      <th>322</th>\n",
       "      <td>2024-01-23</td>\n",
       "      <td>36345.19000000</td>\n",
       "      <td>36858.04000000</td>\n",
       "      <td>35455.56000000</td>\n",
       "      <td>36765.32000000</td>\n",
       "      <td>844.33204031</td>\n",
       "    </tr>\n",
       "    <tr>\n",
       "      <th>323</th>\n",
       "      <td>2024-01-22</td>\n",
       "      <td>38174.41000000</td>\n",
       "      <td>38236.90000000</td>\n",
       "      <td>36138.33000000</td>\n",
       "      <td>36345.19000000</td>\n",
       "      <td>876.86122511</td>\n",
       "    </tr>\n",
       "    <tr>\n",
       "      <th>324</th>\n",
       "      <td>2024-01-21</td>\n",
       "      <td>38280.44000000</td>\n",
       "      <td>38456.48000000</td>\n",
       "      <td>38108.08000000</td>\n",
       "      <td>38178.38000000</td>\n",
       "      <td>103.40935595</td>\n",
       "    </tr>\n",
       "    <tr>\n",
       "      <th>325</th>\n",
       "      <td>2024-01-20</td>\n",
       "      <td>38239.70000000</td>\n",
       "      <td>38443.43000000</td>\n",
       "      <td>38058.69000000</td>\n",
       "      <td>38283.48000000</td>\n",
       "      <td>150.32543212</td>\n",
       "    </tr>\n",
       "    <tr>\n",
       "      <th>326</th>\n",
       "      <td>2024-01-19</td>\n",
       "      <td>37998.87000000</td>\n",
       "      <td>38723.22000000</td>\n",
       "      <td>37000.00000000</td>\n",
       "      <td>38236.24000000</td>\n",
       "      <td>536.44714448</td>\n",
       "    </tr>\n",
       "    <tr>\n",
       "      <th>327</th>\n",
       "      <td>2024-01-18</td>\n",
       "      <td>39276.18000000</td>\n",
       "      <td>39407.88000000</td>\n",
       "      <td>37379.64000000</td>\n",
       "      <td>37988.66000000</td>\n",
       "      <td>718.50309977</td>\n",
       "    </tr>\n",
       "    <tr>\n",
       "      <th>328</th>\n",
       "      <td>2024-01-17</td>\n",
       "      <td>39675.59000000</td>\n",
       "      <td>39728.85000000</td>\n",
       "      <td>38849.96000000</td>\n",
       "      <td>39272.26000000</td>\n",
       "      <td>405.98425404</td>\n",
       "    </tr>\n",
       "    <tr>\n",
       "      <th>329</th>\n",
       "      <td>2024-01-16</td>\n",
       "      <td>38854.04000000</td>\n",
       "      <td>40087.58000000</td>\n",
       "      <td>38700.00000000</td>\n",
       "      <td>39685.64000000</td>\n",
       "      <td>386.11020222</td>\n",
       "    </tr>\n",
       "    <tr>\n",
       "      <th>330</th>\n",
       "      <td>2024-01-15</td>\n",
       "      <td>38125.62000000</td>\n",
       "      <td>39626.61000000</td>\n",
       "      <td>38111.56000000</td>\n",
       "      <td>38856.28000000</td>\n",
       "      <td>565.02130209</td>\n",
       "    </tr>\n",
       "    <tr>\n",
       "      <th>331</th>\n",
       "      <td>2024-01-14</td>\n",
       "      <td>39205.76000000</td>\n",
       "      <td>39384.66000000</td>\n",
       "      <td>38107.26000000</td>\n",
       "      <td>38127.68000000</td>\n",
       "      <td>382.57458439</td>\n",
       "    </tr>\n",
       "    <tr>\n",
       "      <th>332</th>\n",
       "      <td>2024-01-13</td>\n",
       "      <td>39150.25000000</td>\n",
       "      <td>39645.59000000</td>\n",
       "      <td>38799.22000000</td>\n",
       "      <td>39207.07000000</td>\n",
       "      <td>468.52145693</td>\n",
       "    </tr>\n",
       "    <tr>\n",
       "      <th>333</th>\n",
       "      <td>2024-01-12</td>\n",
       "      <td>42225.03000000</td>\n",
       "      <td>42403.63000000</td>\n",
       "      <td>37900.00000000</td>\n",
       "      <td>39146.18000000</td>\n",
       "      <td>1471.06363884</td>\n",
       "    </tr>\n",
       "    <tr>\n",
       "      <th>334</th>\n",
       "      <td>2024-01-11</td>\n",
       "      <td>42588.61000000</td>\n",
       "      <td>44887.99000000</td>\n",
       "      <td>41588.00000000</td>\n",
       "      <td>42227.19000000</td>\n",
       "      <td>1639.99550313</td>\n",
       "    </tr>\n",
       "    <tr>\n",
       "      <th>335</th>\n",
       "      <td>2024-01-10</td>\n",
       "      <td>42250.10000000</td>\n",
       "      <td>43571.51000000</td>\n",
       "      <td>40529.96000000</td>\n",
       "      <td>42576.83000000</td>\n",
       "      <td>1436.15821126</td>\n",
       "    </tr>\n",
       "    <tr>\n",
       "      <th>336</th>\n",
       "      <td>2024-01-09</td>\n",
       "      <td>42922.51000000</td>\n",
       "      <td>43977.39000000</td>\n",
       "      <td>41017.14000000</td>\n",
       "      <td>42224.79000000</td>\n",
       "      <td>1282.63926189</td>\n",
       "    </tr>\n",
       "    <tr>\n",
       "      <th>337</th>\n",
       "      <td>2024-01-08</td>\n",
       "      <td>40212.32000000</td>\n",
       "      <td>43178.99000000</td>\n",
       "      <td>39534.33000000</td>\n",
       "      <td>42919.85000000</td>\n",
       "      <td>1133.08295922</td>\n",
       "    </tr>\n",
       "    <tr>\n",
       "      <th>338</th>\n",
       "      <td>2024-01-07</td>\n",
       "      <td>40259.98000000</td>\n",
       "      <td>40730.42000000</td>\n",
       "      <td>39933.18000000</td>\n",
       "      <td>40205.88000000</td>\n",
       "      <td>410.42694407</td>\n",
       "    </tr>\n",
       "    <tr>\n",
       "      <th>339</th>\n",
       "      <td>2024-01-06</td>\n",
       "      <td>40426.56000000</td>\n",
       "      <td>40484.98000000</td>\n",
       "      <td>39750.00000000</td>\n",
       "      <td>40264.14000000</td>\n",
       "      <td>237.16452420</td>\n",
       "    </tr>\n",
       "    <tr>\n",
       "      <th>340</th>\n",
       "      <td>2024-01-05</td>\n",
       "      <td>40419.60000000</td>\n",
       "      <td>40675.80000000</td>\n",
       "      <td>38811.00000000</td>\n",
       "      <td>40424.44000000</td>\n",
       "      <td>1089.89064410</td>\n",
       "    </tr>\n",
       "    <tr>\n",
       "      <th>341</th>\n",
       "      <td>2024-01-04</td>\n",
       "      <td>39325.86000000</td>\n",
       "      <td>40949.76000000</td>\n",
       "      <td>38999.00000000</td>\n",
       "      <td>40412.75000000</td>\n",
       "      <td>874.41827334</td>\n",
       "    </tr>\n",
       "    <tr>\n",
       "      <th>342</th>\n",
       "      <td>2024-01-03</td>\n",
       "      <td>41126.14000000</td>\n",
       "      <td>41614.69000000</td>\n",
       "      <td>37350.00000000</td>\n",
       "      <td>39332.21000000</td>\n",
       "      <td>1482.34923329</td>\n",
       "    </tr>\n",
       "    <tr>\n",
       "      <th>343</th>\n",
       "      <td>2024-01-02</td>\n",
       "      <td>40091.39000000</td>\n",
       "      <td>41912.00000000</td>\n",
       "      <td>40054.41000000</td>\n",
       "      <td>41120.45000000</td>\n",
       "      <td>989.26435722</td>\n",
       "    </tr>\n",
       "    <tr>\n",
       "      <th>344</th>\n",
       "      <td>2024-01-01</td>\n",
       "      <td>38418.87000000</td>\n",
       "      <td>40100.00000000</td>\n",
       "      <td>38294.70000000</td>\n",
       "      <td>40090.38000000</td>\n",
       "      <td>365.72069768</td>\n",
       "    </tr>\n",
       "    <tr>\n",
       "      <th>345</th>\n",
       "      <td>2023-12-31</td>\n",
       "      <td>38280.09000000</td>\n",
       "      <td>38948.18000000</td>\n",
       "      <td>38111.66000000</td>\n",
       "      <td>38427.75000000</td>\n",
       "      <td>378.74827432</td>\n",
       "    </tr>\n",
       "    <tr>\n",
       "      <th>346</th>\n",
       "      <td>2023-12-30</td>\n",
       "      <td>38216.07000000</td>\n",
       "      <td>38682.77000000</td>\n",
       "      <td>37689.55000000</td>\n",
       "      <td>38278.51000000</td>\n",
       "      <td>517.29575131</td>\n",
       "    </tr>\n",
       "    <tr>\n",
       "      <th>347</th>\n",
       "      <td>2023-12-29</td>\n",
       "      <td>38498.12000000</td>\n",
       "      <td>39067.83000000</td>\n",
       "      <td>37544.31000000</td>\n",
       "      <td>38217.53000000</td>\n",
       "      <td>673.86755739</td>\n",
       "    </tr>\n",
       "    <tr>\n",
       "      <th>348</th>\n",
       "      <td>2023-12-28</td>\n",
       "      <td>39156.55000000</td>\n",
       "      <td>39449.76000000</td>\n",
       "      <td>38158.41000000</td>\n",
       "      <td>38495.00000000</td>\n",
       "      <td>647.48504211</td>\n",
       "    </tr>\n",
       "    <tr>\n",
       "      <th>349</th>\n",
       "      <td>2023-12-27</td>\n",
       "      <td>38533.41000000</td>\n",
       "      <td>39386.00000000</td>\n",
       "      <td>38200.00000000</td>\n",
       "      <td>39151.63000000</td>\n",
       "      <td>569.19493673</td>\n",
       "    </tr>\n",
       "  </tbody>\n",
       "</table>\n",
       "</div>"
      ],
      "text/plain": [
       "          Date      Open (EUR)      High (EUR)       Low (EUR)  \\\n",
       "320 2024-01-25  36845.20000000  37024.19000000  36448.01000000   \n",
       "321 2024-01-24  36770.49000000  37236.52000000  36254.69000000   \n",
       "322 2024-01-23  36345.19000000  36858.04000000  35455.56000000   \n",
       "323 2024-01-22  38174.41000000  38236.90000000  36138.33000000   \n",
       "324 2024-01-21  38280.44000000  38456.48000000  38108.08000000   \n",
       "325 2024-01-20  38239.70000000  38443.43000000  38058.69000000   \n",
       "326 2024-01-19  37998.87000000  38723.22000000  37000.00000000   \n",
       "327 2024-01-18  39276.18000000  39407.88000000  37379.64000000   \n",
       "328 2024-01-17  39675.59000000  39728.85000000  38849.96000000   \n",
       "329 2024-01-16  38854.04000000  40087.58000000  38700.00000000   \n",
       "330 2024-01-15  38125.62000000  39626.61000000  38111.56000000   \n",
       "331 2024-01-14  39205.76000000  39384.66000000  38107.26000000   \n",
       "332 2024-01-13  39150.25000000  39645.59000000  38799.22000000   \n",
       "333 2024-01-12  42225.03000000  42403.63000000  37900.00000000   \n",
       "334 2024-01-11  42588.61000000  44887.99000000  41588.00000000   \n",
       "335 2024-01-10  42250.10000000  43571.51000000  40529.96000000   \n",
       "336 2024-01-09  42922.51000000  43977.39000000  41017.14000000   \n",
       "337 2024-01-08  40212.32000000  43178.99000000  39534.33000000   \n",
       "338 2024-01-07  40259.98000000  40730.42000000  39933.18000000   \n",
       "339 2024-01-06  40426.56000000  40484.98000000  39750.00000000   \n",
       "340 2024-01-05  40419.60000000  40675.80000000  38811.00000000   \n",
       "341 2024-01-04  39325.86000000  40949.76000000  38999.00000000   \n",
       "342 2024-01-03  41126.14000000  41614.69000000  37350.00000000   \n",
       "343 2024-01-02  40091.39000000  41912.00000000  40054.41000000   \n",
       "344 2024-01-01  38418.87000000  40100.00000000  38294.70000000   \n",
       "345 2023-12-31  38280.09000000  38948.18000000  38111.66000000   \n",
       "346 2023-12-30  38216.07000000  38682.77000000  37689.55000000   \n",
       "347 2023-12-29  38498.12000000  39067.83000000  37544.31000000   \n",
       "348 2023-12-28  39156.55000000  39449.76000000  38158.41000000   \n",
       "349 2023-12-27  38533.41000000  39386.00000000  38200.00000000   \n",
       "\n",
       "        Close (EUR)     Open (USD)  \n",
       "320  36855.82000000   350.07687683  \n",
       "321  36845.18000000   669.25689196  \n",
       "322  36765.32000000   844.33204031  \n",
       "323  36345.19000000   876.86122511  \n",
       "324  38178.38000000   103.40935595  \n",
       "325  38283.48000000   150.32543212  \n",
       "326  38236.24000000   536.44714448  \n",
       "327  37988.66000000   718.50309977  \n",
       "328  39272.26000000   405.98425404  \n",
       "329  39685.64000000   386.11020222  \n",
       "330  38856.28000000   565.02130209  \n",
       "331  38127.68000000   382.57458439  \n",
       "332  39207.07000000   468.52145693  \n",
       "333  39146.18000000  1471.06363884  \n",
       "334  42227.19000000  1639.99550313  \n",
       "335  42576.83000000  1436.15821126  \n",
       "336  42224.79000000  1282.63926189  \n",
       "337  42919.85000000  1133.08295922  \n",
       "338  40205.88000000   410.42694407  \n",
       "339  40264.14000000   237.16452420  \n",
       "340  40424.44000000  1089.89064410  \n",
       "341  40412.75000000   874.41827334  \n",
       "342  39332.21000000  1482.34923329  \n",
       "343  41120.45000000   989.26435722  \n",
       "344  40090.38000000   365.72069768  \n",
       "345  38427.75000000   378.74827432  \n",
       "346  38278.51000000   517.29575131  \n",
       "347  38217.53000000   673.86755739  \n",
       "348  38495.00000000   647.48504211  \n",
       "349  39151.63000000   569.19493673  "
      ]
     },
     "execution_count": 22,
     "metadata": {},
     "output_type": "execute_result"
    }
   ],
   "source": [
    "df.tail(30)"
   ]
  },
  {
   "cell_type": "code",
   "execution_count": null,
   "metadata": {},
   "outputs": [],
   "source": []
  },
  {
   "cell_type": "code",
   "execution_count": null,
   "metadata": {},
   "outputs": [],
   "source": []
  },
  {
   "cell_type": "code",
   "execution_count": 23,
   "metadata": {},
   "outputs": [
    {
     "name": "stdout",
     "output_type": "stream",
     "text": [
      "{'Meta Data': {'1. Information': 'Daily Prices and Volumes for Digital Currency', '2. Digital Currency Code': 'BTC', '3. Digital Currency Name': 'Bitcoin', '4. Market Code': 'EUR', '5. Market Name': 'Euro', '6. Last Refreshed': '2024-12-10 00:00:00', '7. Time Zone': 'UTC'}, 'Time Series (Digital Currency Daily)': {'2024-12-10': {'1. open': '92239.33000000', '2. high': '93082.80000000', '3. low': '92000.01000000', '4. close': '92692.36000000', '5. volume': '26.58823172'}, '2024-12-09': {'1. open': '95662.16000000', '2. high': '95763.04000000', '3. low': '89217.53000000', '4. close': '92274.10000000', '5. volume': '552.52661383'}, '2024-12-08': {'1. open': '94428.15000000', '2. high': '95908.70000000', '3. low': '93391.07000000', '4. close': '95685.97000000', '5. volume': '168.88619671'}, '2024-12-07': {'1. open': '94435.53000000', '2. high': '95080.04000000', '3. low': '93383.71000000', '4. close': '94421.99000000', '5. volume': '197.26954813'}, '2024-12-06': {'1. open': '91706.60000000', '2. high': '96591.42000000', '3. low': '91127.00000000', '4. close': '94436.71000000', '5. volume': '542.64571223'}, '2024-12-05': {'1. open': '93775.73000000', '2. high': '98456.03000000', '3. low': '86600.00000000', '4. close': '91712.59000000', '5. volume': '1236.52232064'}, '2024-12-04': {'1. open': '91249.72000000', '2. high': '94277.20000000', '3. low': '89907.87000000', '4. close': '93790.50000000', '5. volume': '498.49733094'}, '2024-12-03': {'1. open': '91279.95000000', '2. high': '91751.07000000', '3. low': '88886.03000000', '4. close': '91229.73000000', '5. volume': '378.30146135'}, '2024-12-02': {'1. open': '92096.25000000', '2. high': '93098.99000000', '3. low': '90011.05000000', '4. close': '91275.31000000', '5. volume': '371.87919391'}, '2024-12-01': {'1. open': '91143.07000000', '2. high': '92599.99000000', '3. low': '90470.00000000', '4. close': '92099.58000000', '5. volume': '195.27489538'}, '2024-11-30': {'1. open': '92150.72000000', '2. high': '92154.35000000', '3. low': '90722.66000000', '4. close': '91143.29000000', '5. volume': '147.38722472'}, '2024-11-29': {'1. open': '90627.58000000', '2. high': '93535.47000000', '3. low': '90296.09000000', '4. close': '92163.53000000', '5. volume': '370.75302119'}, '2024-11-28': {'1. open': '90831.46000000', '2. high': '91601.62000000', '3. low': '89731.44000000', '4. close': '90606.98000000', '5. volume': '340.61478617'}, '2024-11-27': {'1. open': '87609.93000000', '2. high': '92207.53000000', '3. low': '87423.34000000', '4. close': '90854.12000000', '5. volume': '716.51787977'}, '2024-11-26': {'1. open': '88922.48000000', '2. high': '90777.81000000', '3. low': '86543.90000000', '4. close': '87605.57000000', '5. volume': '1087.59277563'}, '2024-11-25': {'1. open': '93388.13000000', '2. high': '94400.00000000', '3. low': '88070.46000000', '4. close': '88950.00000000', '5. volume': '946.06920339'}, '2024-11-24': {'1. open': '93200.09000000', '2. high': '94118.48000000', '3. low': '91129.86000000', '4. close': '93391.61000000', '5. volume': '520.87509879'}, '2024-11-23': {'1. open': '94720.51000000', '2. high': '94720.51000000', '3. low': '92680.84000000', '4. close': '93208.66000000', '5. volume': '363.23362745'}, '2024-11-22': {'1. open': '93564.35000000', '2. high': '95501.25000000', '3. low': '93075.21000000', '4. close': '94717.46000000', '5. volume': '1041.06139351'}, '2024-11-21': {'1. open': '89274.21000000', '2. high': '94235.00000000', '3. low': '89140.88000000', '4. close': '93554.33000000', '5. volume': '1637.55645015'}, '2024-11-20': {'1. open': '87182.40000000', '2. high': '90088.98000000', '3. low': '86446.65000000', '4. close': '89280.02000000', '5. volume': '671.56658014'}, '2024-11-19': {'1. open': '85409.31000000', '2. high': '88742.51000000', '3. low': '85337.81000000', '4. close': '87157.00000000', '5. volume': '693.28942984'}, '2024-11-18': {'1. open': '85046.28000000', '2. high': '87599.00000000', '3. low': '84594.12000000', '4. close': '85423.38000000', '5. volume': '703.24208600'}, '2024-11-17': {'1. open': '85667.74000000', '2. high': '86397.38000000', '3. low': '83913.99000000', '4. close': '85016.99000000', '5. volume': '389.00874594'}, '2024-11-16': {'1. open': '86256.73000000', '2. high': '86900.22000000', '3. low': '85171.44000000', '4. close': '85665.95000000', '5. volume': '220.55102249'}, '2024-11-15': {'1. open': '82893.06000000', '2. high': '87076.83000000', '3. low': '82621.18000000', '4. close': '86260.52000000', '5. volume': '532.44187883'}, '2024-11-14': {'1. open': '85286.00000000', '2. high': '87076.83000000', '3. low': '82317.57000000', '4. close': '82917.20000000', '5. volume': '877.49846428'}, '2024-11-13': {'1. open': '82311.26000000', '2. high': '88000.00000000', '3. low': '80903.15000000', '4. close': '85278.66000000', '5. volume': '1364.44961113'}, '2024-11-12': {'1. open': '82273.98000000', '2. high': '84457.98000000', '3. low': '75700.00000000', '4. close': '82334.41000000', '5. volume': '1838.12262283'}, '2024-11-11': {'1. open': '74780.73000000', '2. high': '82900.00000000', '3. low': '74639.10000000', '4. close': '82274.06000000', '5. volume': '1441.28614835'}, '2024-11-10': {'1. open': '71562.42000000', '2. high': '75699.99000000', '3. low': '71388.80000000', '4. close': '74757.19000000', '5. volume': '760.24717970'}, '2024-11-09': {'1. open': '71418.19000000', '2. high': '71777.77000000', '3. low': '70664.61000000', '4. close': '71550.49000000', '5. volume': '166.98838724'}, '2024-11-08': {'1. open': '70324.72000000', '2. high': '72088.30000000', '3. low': '70132.73000000', '4. close': '71421.23000000', '5. volume': '269.30354873'}, '2024-11-07': {'1. open': '70340.00000000', '2. high': '71193.11000000', '3. low': '68901.04000000', '4. close': '70292.42000000', '5. volume': '400.31083733'}, '2024-11-06': {'1. open': '63517.03000000', '2. high': '71149.78000000', '3. low': '63423.44000000', '4. close': '70304.54000000', '5. volume': '1364.77495693'}, '2024-11-05': {'1. open': '62348.64000000', '2. high': '64637.98000000', '3. low': '62022.59000000', '4. close': '63491.53000000', '5. volume': '282.78464079'}, '2024-11-04': {'1. open': '63408.26000000', '2. high': '63791.42000000', '3. low': '61410.68000000', '4. close': '62357.98000000', '5. volume': '301.31622731'}, '2024-11-03': {'1. open': '64132.60000000', '2. high': '64169.66000000', '3. low': '62351.09000000', '4. close': '63426.11000000', '5. volume': '359.15274360'}, '2024-11-02': {'1. open': '64144.26000000', '2. high': '64537.47000000', '3. low': '63776.12000000', '4. close': '64124.73000000', '5. volume': '48.98607369'}, '2024-11-01': {'1. open': '64506.42000000', '2. high': '65968.48000000', '3. low': '63230.24000000', '4. close': '64175.87000000', '5. volume': '258.86695384'}, '2024-10-31': {'1. open': '66595.95000000', '2. high': '66893.60000000', '3. low': '63946.30000000', '4. close': '64506.43000000', '5. volume': '308.79554682'}, '2024-10-30': {'1. open': '67148.64000000', '2. high': '67174.82000000', '3. low': '65914.41000000', '4. close': '66607.40000000', '5. volume': '252.20350371'}, '2024-10-29': {'1. open': '64636.79000000', '2. high': '68000.00000000', '3. low': '64422.84000000', '4. close': '67134.23000000', '5. volume': '707.11838829'}, '2024-10-28': {'1. open': '62928.68000000', '2. high': '64932.23000000', '3. low': '62623.13000000', '4. close': '64634.89000000', '5. volume': '326.05451082'}, '2024-10-27': {'1. open': '62155.83000000', '2. high': '63198.15000000', '3. low': '61985.78000000', '4. close': '62928.34000000', '5. volume': '106.17886596'}, '2024-10-26': {'1. open': '61740.05000000', '2. high': '62453.74000000', '3. low': '61565.45000000', '4. close': '62136.66000000', '5. volume': '65.10975685'}, '2024-10-25': {'1. open': '62979.27000000', '2. high': '63463.91000000', '3. low': '60776.28000000', '4. close': '61744.48000000', '5. volume': '235.57270922'}, '2024-10-24': {'1. open': '61803.03000000', '2. high': '63574.05000000', '3. low': '61629.62000000', '4. close': '62976.58000000', '5. volume': '313.65572182'}, '2024-10-23': {'1. open': '62400.56000000', '2. high': '62400.56000000', '3. low': '60465.00000000', '4. close': '61791.39000000', '5. volume': '165.08982555'}, '2024-10-22': {'1. open': '62160.00000000', '2. high': '62777.00000000', '3. low': '61420.41000000', '4. close': '62408.10000000', '5. volume': '387.06914029'}, '2024-10-21': {'1. open': '63445.78000000', '2. high': '63900.00000000', '3. low': '61649.96000000', '4. close': '62154.91000000', '5. volume': '513.43364230'}, '2024-10-20': {'1. open': '62840.49000000', '2. high': '63779.18000000', '3. low': '62597.49000000', '4. close': '63433.63000000', '5. volume': '126.77171012'}, '2024-10-19': {'1. open': '62966.41000000', '2. high': '63186.47000000', '3. low': '62268.10000000', '4. close': '62835.98000000', '5. volume': '91.10108229'}, '2024-10-18': {'1. open': '62200.36000000', '2. high': '63499.99000000', '3. low': '61956.89000000', '4. close': '62976.42000000', '5. volume': '452.48284802'}, '2024-10-17': {'1. open': '62235.03000000', '2. high': '62509.07000000', '3. low': '61444.00000000', '4. close': '62185.80000000', '5. volume': '204.80844458'}, '2024-10-16': {'1. open': '61574.43000000', '2. high': '62759.72000000', '3. low': '61274.78000000', '4. close': '62222.06000000', '5. volume': '284.82937583'}, '2024-10-15': {'1. open': '60413.47000000', '2. high': '62200.00000000', '3. low': '59377.80000000', '4. close': '61565.84000000', '5. volume': '405.94917438'}, '2024-10-14': {'1. open': '57516.93000000', '2. high': '60999.00000000', '3. low': '57148.57000000', '4. close': '60393.03000000', '5. volume': '497.97698980'}, '2024-10-13': {'1. open': '57721.17000000', '2. high': '57789.17000000', '3. low': '56653.98000000', '4. close': '57519.27000000', '5. volume': '148.87016103'}, '2024-10-12': {'1. open': '57164.90000000', '2. high': '58003.83000000', '3. low': '57119.07000000', '4. close': '57728.29000000', '5. volume': '101.28575501'}, '2024-10-11': {'1. open': '55142.72000000', '2. high': '57977.43000000', '3. low': '54950.51000000', '4. close': '57140.17000000', '5. volume': '224.21897559'}, '2024-10-10': {'1. open': '55370.10000000', '2. high': '56058.68000000', '3. low': '53904.09000000', '4. close': '55146.64000000', '5. volume': '220.05098312'}, '2024-10-09': {'1. open': '56623.09000000', '2. high': '57004.21000000', '3. low': '55090.00000000', '4. close': '55379.26000000', '5. volume': '184.88185859'}, '2024-10-08': {'1. open': '56703.35000000', '2. high': '57573.30000000', '3. low': '56373.07000000', '4. close': '56607.21000000', '5. volume': '159.12921466'}, '2024-10-07': {'1. open': '57256.48000000', '2. high': '58723.00000000', '3. low': '56600.00000000', '4. close': '56722.36000000', '5. volume': '207.05337233'}, '2024-10-06': {'1. open': '56522.61000000', '2. high': '57354.13000000', '3. low': '56300.00000000', '4. close': '57248.79000000', '5. volume': '92.42354624'}, '2024-10-05': {'1. open': '56588.84000000', '2. high': '56831.74000000', '3. low': '56187.41000000', '4. close': '56505.53000000', '5. volume': '58.20658723'}, '2024-10-04': {'1. open': '55047.76000000', '2. high': '56945.23000000', '3. low': '54785.63000000', '4. close': '56572.45000000', '5. volume': '229.25658222'}, '2024-10-03': {'1. open': '54893.39000000', '2. high': '55719.54000000', '3. low': '54237.15000000', '4. close': '55053.60000000', '5. volume': '325.96403893'}, '2024-10-02': {'1. open': '54908.65000000', '2. high': '56446.85000000', '3. low': '54301.00000000', '4. close': '54905.63000000', '5. volume': '314.17660861'}, '2024-10-01': {'1. open': '56850.00000000', '2. high': '57713.90000000', '3. low': '54301.02000000', '4. close': '54900.00000000', '5. volume': '332.62712344'}, '2024-09-30': {'1. open': '58752.02000000', '2. high': '58757.86000000', '3. low': '56421.56000000', '4. close': '56853.11000000', '5. volume': '284.50661756'}, '2024-09-29': {'1. open': '59006.02000000', '2. high': '59130.89000000', '3. low': '58620.64000000', '4. close': '58742.25000000', '5. volume': '99.07191940'}, '2024-09-28': {'1. open': '58959.93000000', '2. high': '59348.82000000', '3. low': '58610.19000000', '4. close': '58982.04000000', '5. volume': '83.33974660'}, '2024-09-27': {'1. open': '58329.32000000', '2. high': '59528.74000000', '3. low': '58057.40000000', '4. close': '58936.22000000', '5. volume': '271.49194403'}, '2024-09-26': {'1. open': '56715.02000000', '2. high': '58940.47000000', '3. low': '56281.39000000', '4. close': '58315.28000000', '5. volume': '324.94929400'}, '2024-09-25': {'1. open': '57453.84000000', '2. high': '57924.98000000', '3. low': '56526.64000000', '4. close': '56730.08000000', '5. volume': '169.19799330'}, '2024-09-24': {'1. open': '57003.00000000', '2. high': '57822.22000000', '3. low': '56259.42000000', '4. close': '57426.47000000', '5. volume': '218.53383368'}, '2024-09-23': {'1. open': '56988.75000000', '2. high': '57970.81000000', '3. low': '56080.15000000', '4. close': '56985.67000000', '5. volume': '223.72967754'}, '2024-09-22': {'1. open': '56772.76000000', '2. high': '57321.60000000', '3. low': '55883.34000000', '4. close': '57001.09000000', '5. volume': '146.12246921'}, '2024-09-21': {'1. open': '56605.64000000', '2. high': '56937.10000000', '3. low': '56211.31000000', '4. close': '56753.13000000', '5. volume': '53.43438343'}, '2024-09-20': {'1. open': '56396.66000000', '2. high': '57414.44000000', '3. low': '55813.70000000', '4. close': '56634.75000000', '5. volume': '198.00698897'}, '2024-09-19': {'1. open': '55571.01000000', '2. high': '57241.75000000', '3. low': '55438.04000000', '4. close': '56385.95000000', '5. volume': '329.06309665'}, '2024-09-18': {'1. open': '54261.74000000', '2. high': '55604.62000000', '3. low': '53223.45000000', '4. close': '55562.82000000', '5. volume': '337.00000766'}, '2024-09-17': {'1. open': '52290.93000000', '2. high': '55193.91000000', '3. low': '51790.06000000', '4. close': '54226.05000000', '5. volume': '364.06498608'}, '2024-09-16': {'1. open': '53320.98000000', '2. high': '53409.25000000', '3. low': '51650.17000000', '4. close': '52276.88000000', '5. volume': '227.43877981'}, '2024-09-15': {'1. open': '54168.55000000', '2. high': '54488.83000000', '3. low': '52959.70000000', '4. close': '53343.95000000', '5. volume': '156.99599343'}, '2024-09-14': {'1. open': '54674.74000000', '2. high': '54756.51000000', '3. low': '53700.00000000', '4. close': '54164.78000000', '5. volume': '96.08980267'}, '2024-09-13': {'1. open': '52489.57000000', '2. high': '54781.85000000', '3. low': '52007.60000000', '4. close': '54673.01000000', '5. volume': '250.20037654'}, '2024-09-12': {'1. open': '52130.02000000', '2. high': '53116.26000000', '3. low': '51955.86000000', '4. close': '52494.18000000', '5. volume': '260.61066202'}, '2024-09-11': {'1. open': '52319.39000000', '2. high': '52657.81000000', '3. low': '50490.85000000', '4. close': '52074.02000000', '5. volume': '281.19770213'}, '2024-09-10': {'1. open': '51723.22000000', '2. high': '52649.00000000', '3. low': '51105.34000000', '4. close': '52311.79000000', '5. volume': '212.94548070'}, '2024-09-09': {'1. open': '49526.79000000', '2. high': '52624.00000000', '3. low': '49315.32000000', '4. close': '51718.32000000', '5. volume': '448.96083805'}, '2024-09-08': {'1. open': '48922.03000000', '2. high': '49905.18000000', '3. low': '48417.29000000', '4. close': '49505.02000000', '5. volume': '188.58514830'}, '2024-09-07': {'1. open': '48768.11000000', '2. high': '49585.80000000', '3. low': '48548.32000000', '4. close': '48900.38000000', '5. volume': '218.48358020'}, '2024-09-06': {'1. open': '50560.77000000', '2. high': '51382.12000000', '3. low': '47428.66000000', '4. close': '48768.11000000', '5. volume': '631.99766844'}, '2024-09-05': {'1. open': '52320.31000000', '2. high': '52652.63000000', '3. low': '50084.23000000', '4. close': '50556.80000000', '5. volume': '241.17270351'}, '2024-09-04': {'1. open': '52036.77000000', '2. high': '52835.55000000', '3. low': '50354.20000000', '4. close': '52323.86000000', '5. volume': '397.29997213'}, '2024-09-03': {'1. open': '53444.24000000', '2. high': '54065.45000000', '3. low': '51964.87000000', '4. close': '52033.15000000', '5. volume': '287.13574297'}, '2024-09-02': {'1. open': '51911.95000000', '2. high': '53700.00000000', '3. low': '51709.51000000', '4. close': '53430.92000000', '5. volume': '233.61573622'}, '2024-09-01': {'1. open': '53385.08000000', '2. high': '53476.90000000', '3. low': '51802.75000000', '4. close': '51931.36000000', '5. volume': '203.81632762'}, '2024-08-31': {'1. open': '53553.35000000', '2. high': '53855.82000000', '3. low': '53200.00000000', '4. close': '53405.31000000', '5. volume': '60.22093735'}, '2024-08-30': {'1. open': '53585.98000000', '2. high': '54096.18000000', '3. low': '52280.00000000', '4. close': '53546.16000000', '5. volume': '231.76194306'}, '2024-08-29': {'1. open': '53109.73000000', '2. high': '55248.92000000', '3. low': '52921.58000000', '4. close': '53604.00000000', '5. volume': '286.41399895'}, '2024-08-28': {'1. open': '53225.11000000', '2. high': '54189.93000000', '3. low': '52100.00000000', '4. close': '53088.39000000', '5. volume': '326.99133822'}, '2024-08-27': {'1. open': '56289.73000000', '2. high': '56613.32000000', '3. low': '51950.00000000', '4. close': '53225.98000000', '5. volume': '464.08729339'}, '2024-08-26': {'1. open': '57406.50000000', '2. high': '57632.29000000', '3. low': '56256.75000000', '4. close': '56298.34000000', '5. volume': '303.87103799'}, '2024-08-25': {'1. open': '57272.31000000', '2. high': '58113.94000000', '3. low': '56905.96000000', '4. close': '57402.19000000', '5. volume': '167.58380223'}, '2024-08-24': {'1. open': '57301.11000000', '2. high': '57632.96000000', '3. low': '56735.97000000', '4. close': '57269.55000000', '5. volume': '151.91637930'}, '2024-08-23': {'1. open': '54311.20000000', '2. high': '58047.53000000', '3. low': '54311.19000000', '4. close': '57308.88000000', '5. volume': '447.89770675'}, '2024-08-22': {'1. open': '54830.06000000', '2. high': '55146.00000000', '3. low': '53625.00000000', '4. close': '54327.75000000', '5. volume': '345.61932192'}, '2024-08-21': {'1. open': '53062.12000000', '2. high': '55458.37000000', '3. low': '52862.69000000', '4. close': '54841.80000000', '5. volume': '371.62377308'}, '2024-08-20': {'1. open': '53657.34000000', '2. high': '55469.03000000', '3. low': '52747.33000000', '4. close': '53076.19000000', '5. volume': '301.28743363'}, '2024-08-19': {'1. open': '53049.34000000', '2. high': '53800.00000000', '3. low': '52408.27000000', '4. close': '53652.29000000', '5. volume': '224.94083142'}, '2024-08-18': {'1. open': '54009.94000000', '2. high': '54688.34000000', '3. low': '53019.52000000', '4. close': '53046.89000000', '5. volume': '130.08025933'}, '2024-08-17': {'1. open': '53452.49000000', '2. high': '54194.89000000', '3. low': '53380.64000000', '4. close': '54000.00000000', '5. volume': '74.08506959'}, '2024-08-16': {'1. open': '52501.36000000', '2. high': '54340.13000000', '3. low': '52064.92000000', '4. close': '53464.65000000', '5. volume': '253.81422526'}, '2024-08-15': {'1. open': '53326.55000000', '2. high': '54508.09000000', '3. low': '51195.03000000', '4. close': '52491.11000000', '5. volume': '424.84476460'}, '2024-08-14': {'1. open': '55146.13000000', '2. high': '56081.19000000', '3. low': '53100.00000000', '4. close': '53328.00000000', '5. volume': '308.51748484'}, '2024-08-13': {'1. open': '54312.58000000', '2. high': '56141.89000000', '3. low': '53510.41000000', '4. close': '55129.90000000', '5. volume': '286.50224950'}, '2024-08-12': {'1. open': '53822.14000000', '2. high': '55555.00000000', '3. low': '52780.03000000', '4. close': '54307.22000000', '5. volume': '359.11681215'}, '2024-08-11': {'1. open': '55860.58000000', '2. high': '56707.04000000', '3. low': '53436.91000000', '4. close': '53835.66000000', '5. volume': '239.45474186'}, '2024-08-10': {'1. open': '55800.62000000', '2. high': '56358.00000000', '3. low': '55240.07000000', '4. close': '55859.19000000', '5. volume': '135.27159029'}, '2024-08-09': {'1. open': '56546.67000000', '2. high': '56593.13000000', '3. low': '54533.74000000', '4. close': '55789.08000000', '5. volume': '313.86928219'}, '2024-08-08': {'1. open': '50512.15000000', '2. high': '57499.00000000', '3. low': '50129.82000000', '4. close': '56542.08000000', '5. volume': '460.84007542'}, '2024-08-07': {'1. open': '51369.66000000', '2. high': '52950.00000000', '3. low': '50010.13000000', '4. close': '50495.77000000', '5. volume': '549.41047371'}, '2024-08-06': {'1. open': '49417.12000000', '2. high': '52299.98000000', '3. low': '49371.86000000', '4. close': '51374.96000000', '5. volume': '963.93343161'}, '2024-08-05': {'1. open': '53330.01000000', '2. high': '53448.81000000', '3. low': '45021.36000000', '4. close': '49408.05000000', '5. volume': '3196.63707067'}, '2024-08-04': {'1. open': '55719.17000000', '2. high': '56131.17000000', '3. low': '52521.27000000', '4. close': '53309.69000000', '5. volume': '1023.84859285'}, '2024-08-03': {'1. open': '56352.63000000', '2. high': '57110.64000000', '3. low': '55000.00000000', '4. close': '55717.27000000', '5. volume': '553.06040776'}, '2024-08-02': {'1. open': '60555.08000000', '2. high': '60794.76000000', '3. low': '56100.00000000', '4. close': '56347.78000000', '5. volume': '473.47114375'}, '2024-08-01': {'1. open': '59709.38000000', '2. high': '60811.58000000', '3. low': '57709.31000000', '4. close': '60559.44000000', '5. volume': '417.82100327'}, '2024-07-31': {'1. open': '61184.48000000', '2. high': '61804.95000000', '3. low': '59604.99000000', '4. close': '59715.77000000', '5. volume': '336.73080284'}, '2024-07-30': {'1. open': '61701.63000000', '2. high': '61910.98000000', '3. low': '60411.71000000', '4. close': '61177.08000000', '5. volume': '290.33895527'}, '2024-07-29': {'1. open': '62866.50000000', '2. high': '64749.00000000', '3. low': '61368.32000000', '4. close': '61700.00000000', '5. volume': '427.70514922'}, '2024-07-28': {'1. open': '62490.46000000', '2. high': '62887.22000000', '3. low': '61744.87000000', '4. close': '62854.02000000', '5. volume': '107.12922846'}, '2024-07-27': {'1. open': '62561.24000000', '2. high': '63876.72000000', '3. low': '61400.00000000', '4. close': '62488.02000000', '5. volume': '292.01454843'}, '2024-07-26': {'1. open': '60652.22000000', '2. high': '62830.25000000', '3. low': '60571.05000000', '4. close': '62563.79000000', '5. volume': '323.17954685'}, '2024-07-25': {'1. open': '60318.31000000', '2. high': '61004.00000000', '3. low': '58512.00000000', '4. close': '60650.01000000', '5. volume': '335.29952639'}, '2024-07-24': {'1. open': '60766.59000000', '2. high': '61800.00000000', '3. low': '60065.73000000', '4. close': '60333.99000000', '5. volume': '240.22230240'}, '2024-07-23': {'1. open': '62026.78000000', '2. high': '62220.35000000', '3. low': '60224.14000000', '4. close': '60755.96000000', '5. volume': '292.25848749'}, '2024-07-22': {'1. open': '62526.97000000', '2. high': '62821.99000000', '3. low': '61166.88000000', '4. close': '62030.69000000', '5. volume': '250.65858945'}, '2024-07-21': {'1. open': '61646.16000000', '2. high': '62721.17000000', '3. low': '60372.50000000', '4. close': '62529.01000000', '5. volume': '203.01047905'}, '2024-07-20': {'1. open': '61281.39000000', '2. high': '62064.88000000', '3. low': '60871.92000000', '4. close': '61651.61000000', '5. volume': '145.74291043'}, '2024-07-19': {'1. open': '58709.62000000', '2. high': '62000.00000000', '3. low': '58111.70000000', '4. close': '61283.57000000', '5. volume': '410.28483968'}, '2024-07-18': {'1. open': '58599.56000000', '2. high': '59624.66000000', '3. low': '58031.47000000', '4. close': '58699.58000000', '5. volume': '214.24423714'}, '2024-07-17': {'1. open': '59707.23000000', '2. high': '60675.00000000', '3. low': '58347.46000000', '4. close': '58600.56000000', '5. volume': '346.32186003'}, '2024-07-16': {'1. open': '59421.37000000', '2. high': '59998.99000000', '3. low': '57211.79000000', '4. close': '59699.03000000', '5. volume': '405.94613726'}, '2024-07-15': {'1. open': '55876.94000000', '2. high': '59585.00000000', '3. low': '55750.00000000', '4. close': '59432.32000000', '5. volume': '490.78590908'}, '2024-07-14': {'1. open': '54274.50000000', '2. high': '56400.63000000', '3. low': '54257.68000000', '4. close': '55876.86000000', '5. volume': '424.42726971'}, '2024-07-13': {'1. open': '53103.25000000', '2. high': '54863.10000000', '3. low': '52977.57000000', '4. close': '54274.18000000', '5. volume': '208.66300848'}, '2024-07-12': {'1. open': '52733.04000000', '2. high': '53662.74000000', '3. low': '52017.01000000', '4. close': '53109.92000000', '5. volume': '645.82671205'}, '2024-07-11': {'1. open': '53276.99000000', '2. high': '54744.40000000', '3. low': '52591.29000000', '4. close': '52728.22000000', '5. volume': '1016.80072263'}, '2024-07-10': {'1. open': '53663.86000000', '2. high': '54950.27000000', '3. low': '52789.11000000', '4. close': '53276.98000000', '5. volume': '605.65539207'}, '2024-07-09': {'1. open': '52267.68000000', '2. high': '53855.82000000', '3. low': '51865.03000000', '4. close': '53631.95000000', '5. volume': '1109.47042884'}, '2024-07-08': {'1. open': '51589.15000000', '2. high': '53655.00000000', '3. low': '50144.21000000', '4. close': '52254.91000000', '5. volume': '1457.34061510'}, '2024-07-07': {'1. open': '53664.31000000', '2. high': '53861.02000000', '3. low': '51450.59000000', '4. close': '51589.15000000', '5. volume': '293.21252865'}, '2024-07-06': {'1. open': '52267.47000000', '2. high': '53892.23000000', '3. low': '51726.29000000', '4. close': '53664.51000000', '5. volume': '707.35991637'}, '2024-07-05': {'1. open': '52790.03000000', '2. high': '53175.96000000', '3. low': '49437.20000000', '4. close': '52271.97000000', '5. volume': '1085.18051491'}, '2024-07-04': {'1. open': '55772.09000000', '2. high': '56001.96000000', '3. low': '52549.74000000', '4. close': '52790.43000000', '5. volume': '597.16889862'}, '2024-07-03': {'1. open': '57747.42000000', '2. high': '57888.74000000', '3. low': '55048.15000000', '4. close': '55766.78000000', '5. volume': '383.47526387'}, '2024-07-02': {'1. open': '58523.46000000', '2. high': '58894.41000000', '3. low': '57510.25000000', '4. close': '57733.05000000', '5. volume': '206.03530587'}, '2024-07-01': {'1. open': '58416.69000000', '2. high': '59467.74000000', '3. low': '58090.34000000', '4. close': '58527.56000000', '5. volume': '387.64433677'}, '2024-06-30': {'1. open': '56881.68000000', '2. high': '58647.31000000', '3. low': '56625.31000000', '4. close': '58407.41000000', '5. volume': '155.48993236'}, '2024-06-29': {'1. open': '56345.64000000', '2. high': '57117.87000000', '3. low': '56307.44000000', '4. close': '56888.03000000', '5. volume': '136.28146021'}, '2024-06-28': {'1. open': '57546.99000000', '2. high': '58162.14000000', '3. low': '55965.89000000', '4. close': '56344.17000000', '5. volume': '286.13125887'}, '2024-06-27': {'1. open': '56946.44000000', '2. high': '58164.61000000', '3. low': '56622.20000000', '4. close': '57545.90000000', '5. volume': '263.66774666'}, '2024-06-26': {'1. open': '57713.47000000', '2. high': '58294.10000000', '3. low': '56800.20000000', '4. close': '56935.04000000', '5. volume': '341.91484885'}, '2024-06-25': {'1. open': '56169.13000000', '2. high': '58215.85000000', '3. low': '56122.32000000', '4. close': '57713.87000000', '5. volume': '570.89956745'}, '2024-06-24': {'1. open': '59127.81000000', '2. high': '59261.30000000', '3. low': '54419.19000000', '4. close': '56186.44000000', '5. volume': '697.40788768'}, '2024-06-23': {'1. open': '59996.32000000', '2. high': '60246.86000000', '3. low': '59085.16000000', '4. close': '59107.12000000', '5. volume': '89.24138584'}, '2024-06-22': {'1. open': '59995.39000000', '2. high': '60336.51000000', '3. low': '59797.74000000', '4. close': '59992.10000000', '5. volume': '74.27808157'}, '2024-06-21': {'1. open': '60577.71000000', '2. high': '60719.65000000', '3. low': '59287.61000000', '4. close': '59987.59000000', '5. volume': '270.54473097'}, '2024-06-20': {'1. open': '60466.69000000', '2. high': '61937.39000000', '3. low': '60249.86000000', '4. close': '60550.86000000', '5. volume': '323.10050356'}, '2024-06-19': {'1. open': '60698.63000000', '2. high': '61218.74000000', '3. low': '60200.01000000', '4. close': '60456.22000000', '5. volume': '168.56697690'}, '2024-06-18': {'1. open': '61908.22000000', '2. high': '61988.95000000', '3. low': '59654.85000000', '4. close': '60685.06000000', '5. volume': '363.99799435'}, '2024-06-17': {'1. open': '62279.16000000', '2. high': '62696.68000000', '3. low': '60710.72000000', '4. close': '61904.82000000', '5. volume': '236.82698332'}, '2024-06-16': {'1. open': '61832.47000000', '2. high': '62539.34000000', '3. low': '61687.66000000', '4. close': '62262.17000000', '5. volume': '97.60381266'}, '2024-06-15': {'1. open': '61752.49000000', '2. high': '62111.00000000', '3. low': '61494.65000000', '4. close': '61829.19000000', '5. volume': '90.88944269'}, '2024-06-14': {'1. open': '62189.17000000', '2. high': '63090.90000000', '3. low': '60801.06000000', '4. close': '61747.33000000', '5. volume': '300.22901419'}, '2024-06-13': {'1. open': '63136.04000000', '2. high': '63396.45000000', '3. low': '61617.67000000', '4. close': '62171.28000000', '5. volume': '253.89933232'}, '2024-06-12': {'1. open': '62719.92000000', '2. high': '64579.89000000', '3. low': '62243.20000000', '4. close': '63140.41000000', '5. volume': '352.66408515'}, '2024-06-11': {'1. open': '64528.44000000', '2. high': '64588.76000000', '3. low': '61507.14000000', '4. close': '62726.38000000', '5. volume': '530.41475073'}, '2024-06-10': {'1. open': '64664.14000000', '2. high': '65298.24000000', '3. low': '64320.22000000', '4. close': '64535.72000000', '5. volume': '200.93621452'}, '2024-06-09': {'1. open': '64277.11000000', '2. high': '64842.00000000', '3. low': '64066.62000000', '4. close': '64648.18000000', '5. volume': '159.25443232'}, '2024-06-08': {'1. open': '64257.12000000', '2. high': '64500.00000000', '3. low': '64096.56000000', '4. close': '64278.15000000', '5. volume': '126.90552547'}, '2024-06-07': {'1. open': '64985.78000000', '2. high': '66132.47000000', '3. low': '63309.84000000', '4. close': '64258.71000000', '5. volume': '352.28449963'}, '2024-06-06': {'1. open': '65358.06000000', '2. high': '65766.87000000', '3. low': '64380.61000000', '4. close': '64984.68000000', '5. volume': '283.87105652'}, '2024-06-05': {'1. open': '64789.75000000', '2. high': '66063.64000000', '3. low': '64688.44000000', '4. close': '65357.71000000', '5. volume': '335.41897846'}, '2024-06-04': {'1. open': '63089.34000000', '2. high': '65294.96000000', '3. low': '62931.48000000', '4. close': '64777.18000000', '5. volume': '328.10654650'}, '2024-06-03': {'1. open': '62428.48000000', '2. high': '64762.10000000', '3. low': '62283.90000000', '4. close': '63080.70000000', '5. volume': '304.92947467'}, '2024-06-02': {'1. open': '62445.22000000', '2. high': '63050.23000000', '3. low': '62026.91000000', '4. close': '62452.47000000', '5. volume': '118.29560654'}, '2024-06-01': {'1. open': '62234.29000000', '2. high': '62561.82000000', '3. low': '62130.99000000', '4. close': '62441.25000000', '5. volume': '87.06024806'}, '2024-05-31': {'1. open': '63105.19000000', '2. high': '63537.51000000', '3. low': '61440.00000000', '4. close': '62230.86000000', '5. volume': '277.52115562'}, '2024-05-30': {'1. open': '62551.71000000', '2. high': '64124.08000000', '3. low': '62068.52000000', '4. close': '63095.75000000', '5. volume': '268.44322450'}, '2024-05-29': {'1. open': '62968.22000000', '2. high': '63480.38000000', '3. low': '62062.99000000', '4. close': '62548.69000000', '5. volume': '230.22853881'}, '2024-05-28': {'1. open': '63874.98000000', '2. high': '63968.61000000', '3. low': '61900.00000000', '4. close': '62969.80000000', '5. volume': '340.08480991'}, '2024-05-27': {'1. open': '63145.80000000', '2. high': '64989.91000000', '3. low': '62808.92000000', '4. close': '63872.07000000', '5. volume': '236.89637878'}, '2024-05-26': {'1. open': '63921.45000000', '2. high': '64114.63000000', '3. low': '62843.54000000', '4. close': '63138.93000000', '5. volume': '102.45131389'}, '2024-05-25': {'1. open': '63249.14000000', '2. high': '64198.39000000', '3. low': '63196.06000000', '4. close': '63939.25000000', '5. volume': '103.66428959'}, '2024-05-24': {'1. open': '62839.02000000', '2. high': '63878.65000000', '3. low': '61540.66000000', '4. close': '63232.74000000', '5. volume': '245.38978772'}, '2024-05-23': {'1. open': '63816.00000000', '2. high': '64541.13000000', '3. low': '61333.00000000', '4. close': '62836.76000000', '5. volume': '470.83392201'}, '2024-05-22': {'1. open': '64375.99000000', '2. high': '65138.74000000', '3. low': '63653.03000000', '4. close': '63816.00000000', '5. volume': '376.19678098'}, '2024-05-21': {'1. open': '65521.16000000', '2. high': '65933.02000000', '3. low': '63494.57000000', '4. close': '64375.99000000', '5. volume': '628.58154046'}, '2024-05-20': {'1. open': '60930.51000000', '2. high': '65700.00000000', '3. low': '60750.00000000', '4. close': '65521.16000000', '5. volume': '542.13763679'}, '2024-05-19': {'1. open': '61588.52000000', '2. high': '62261.43000000', '3. low': '60587.46000000', '4. close': '60927.75000000', '5. volume': '202.69537382'}, '2024-05-18': {'1. open': '61685.45000000', '2. high': '62012.19000000', '3. low': '61300.00000000', '4. close': '61579.64000000', '5. volume': '194.99132039'}, '2024-05-17': {'1. open': '60030.50000000', '2. high': '62081.49000000', '3. low': '59963.62000000', '4. close': '61687.99000000', '5. volume': '323.11749946'}, '2024-05-16': {'1. open': '60779.28000000', '2. high': '61400.00000000', '3. low': '59000.00000000', '4. close': '60018.57000000', '5. volume': '394.26686267'}, '2024-05-15': {'1. open': '56924.68000000', '2. high': '61022.00000000', '3. low': '56680.09000000', '4. close': '60777.05000000', '5. volume': '383.64791289'}, '2024-05-14': {'1. open': '58298.94000000', '2. high': '58478.73000000', '3. low': '56500.00000000', '4. close': '56924.05000000', '5. volume': '320.35856449'}, '2024-05-13': {'1. open': '57085.97000000', '2. high': '58770.58000000', '3. low': '56418.03000000', '4. close': '58293.80000000', '5. volume': '325.85438232'}, '2024-05-12': {'1. open': '56516.31000000', '2. high': '57435.99000000', '3. low': '56299.00000000', '4. close': '57075.98000000', '5. volume': '123.98655238'}, '2024-05-11': {'1. open': '56524.04000000', '2. high': '57167.19000000', '3. low': '56208.31000000', '4. close': '56496.94000000', '5. volume': '198.07642651'}, '2024-05-10': {'1. open': '58522.09000000', '2. high': '58882.51000000', '3. low': '55876.05000000', '4. close': '56514.18000000', '5. volume': '447.06249428'}, '2024-05-09': {'1. open': '56941.52000000', '2. high': '58835.13000000', '3. low': '56459.29000000', '4. close': '58521.43000000', '5. volume': '279.82735664'}, '2024-05-08': {'1. open': '57978.20000000', '2. high': '58657.29000000', '3. low': '56638.90000000', '4. close': '56949.08000000', '5. volume': '357.82329052'}, '2024-05-07': {'1. open': '58671.32000000', '2. high': '59857.37000000', '3. low': '57920.00000000', '4. close': '57961.38000000', '5. volume': '305.09384379'}, '2024-05-06': {'1. open': '59515.05000000', '2. high': '60834.00000000', '3. low': '58239.85000000', '4. close': '58681.47000000', '5. volume': '415.09319745'}, '2024-05-05': {'1. open': '59398.45000000', '2. high': '60038.98000000', '3. low': '58461.27000000', '4. close': '59506.98000000', '5. volume': '231.06694571'}, '2024-05-04': {'1. open': '58509.32000000', '2. high': '59999.00000000', '3. low': '58165.60000000', '4. close': '59392.98000000', '5. volume': '274.70356453'}, '2024-05-03': {'1. open': '55076.36000000', '2. high': '58931.62000000', '3. low': '54811.98000000', '4. close': '58507.14000000', '5. volume': '502.09441795'}, '2024-05-02': {'1. open': '54378.17000000', '2. high': '55643.98000000', '3. low': '53121.21000000', '4. close': '55082.13000000', '5. volume': '635.05368310'}, '2024-05-01': {'1. open': '56844.50000000', '2. high': '56991.58000000', '3. low': '52943.49000000', '4. close': '54372.60000000', '5. volume': '1258.79096130'}, '2024-04-30': {'1. open': '59581.09000000', '2. high': '60365.57000000', '3. low': '55311.31000000', '4. close': '56852.18000000', '5. volume': '772.86685399'}, '2024-04-29': {'1. open': '58965.50000000', '2. high': '59875.00000000', '3. low': '57745.77000000', '4. close': '59549.34000000', '5. volume': '503.46241480'}, '2024-04-28': {'1. open': '59364.36000000', '2. high': '60136.13000000', '3. low': '58647.82000000', '4. close': '58947.56000000', '5. volume': '181.01826606'}, '2024-04-27': {'1. open': '59639.85000000', '2. high': '59793.40000000', '3. low': '58411.49000000', '4. close': '59364.40000000', '5. volume': '226.12657975'}, '2024-04-26': {'1. open': '60143.74000000', '2. high': '60545.76000000', '3. low': '59242.36000000', '4. close': '59635.80000000', '5. volume': '354.61187190'}, '2024-04-25': {'1. open': '60074.92000000', '2. high': '60867.16000000', '3. low': '58755.00000000', '4. close': '60126.24000000', '5. volume': '389.91996958'}, '2024-04-24': {'1. open': '62060.81000000', '2. high': '62678.55000000', '3. low': '59418.00000000', '4. close': '60083.17000000', '5. volume': '431.91218967'}, '2024-04-23': {'1. open': '62755.47000000', '2. high': '63046.18000000', '3. low': '61693.41000000', '4. close': '62068.17000000', '5. volume': '386.33059160'}, '2024-04-22': {'1. open': '60985.08000000', '2. high': '63134.63000000', '3. low': '60520.08000000', '4. close': '62755.47000000', '5. volume': '428.47715681'}, '2024-04-21': {'1. open': '61073.94000000', '2. high': '61721.09000000', '3. low': '60349.25000000', '4. close': '60953.54000000', '5. volume': '274.07021648'}, '2024-04-20': {'1. open': '59992.83000000', '2. high': '61521.37000000', '3. low': '59310.61000000', '4. close': '61075.19000000', '5. volume': '334.26412593'}, '2024-04-19': {'1. open': '59713.79000000', '2. high': '61521.37000000', '3. low': '56170.00000000', '4. close': '59991.74000000', '5. volume': '918.21029260'}, '2024-04-18': {'1. open': '57485.45000000', '2. high': '60263.09000000', '3. low': '56917.92000000', '4. close': '59694.80000000', '5. volume': '565.62223035'}, '2024-04-17': {'1. open': '60115.61000000', '2. high': '60782.51000000', '3. low': '56129.00000000', '4. close': '57485.91000000', '5. volume': '987.19193770'}, '2024-04-16': {'1. open': '59769.15000000', '2. high': '60682.79000000', '3. low': '58042.43000000', '4. close': '60117.86000000', '5. volume': '762.53253187'}, '2024-04-15': {'1. open': '61870.64000000', '2. high': '62869.53000000', '3. low': '58717.47000000', '4. close': '59747.50000000', '5. volume': '1009.51373592'}, '2024-04-14': {'1. open': '61005.18000000', '2. high': '62043.20000000', '3. low': '59021.70000000', '4. close': '61867.60000000', '5. volume': '760.75833798'}, '2024-04-13': {'1. open': '63330.19000000', '2. high': '64027.39000000', '3. low': '57251.00000000', '4. close': '61007.42000000', '5. volume': '1559.92725418'}, '2024-04-12': {'1. open': '65281.03000000', '2. high': '66588.53000000', '3. low': '61300.00000000', '4. close': '63328.63000000', '5. volume': '984.35762317'}, '2024-04-11': {'1. open': '65773.86000000', '2. high': '66369.00000000', '3. low': '64846.83000000', '4. close': '65278.57000000', '5. volume': '383.48269915'}, '2024-04-10': {'1. open': '63684.68000000', '2. high': '66222.00000000', '3. low': '62636.91000000', '4. close': '65761.16000000', '5. volume': '444.69384970'}, '2024-04-09': {'1. open': '65894.26000000', '2. high': '66017.61000000', '3. low': '62881.66000000', '4. close': '63710.86000000', '5. volume': '508.61027479'}, '2024-04-08': {'1. open': '64046.80000000', '2. high': '67094.17000000', '3. low': '63770.22000000', '4. close': '65914.02000000', '5. volume': '566.93663259'}, '2024-04-07': {'1. open': '63618.34000000', '2. high': '64849.98000000', '3. low': '63525.00000000', '4. close': '64048.85000000', '5. volume': '219.83451485'}, '2024-04-06': {'1. open': '62640.42000000', '2. high': '64318.25000000', '3. low': '62283.52000000', '4. close': '63613.31000000', '5. volume': '181.73176199'}, '2024-04-05': {'1. open': '63272.08000000', '2. high': '63464.37000000', '3. low': '61077.30000000', '4. close': '62635.57000000', '5. volume': '457.05471445'}, '2024-04-04': {'1. open': '60962.64000000', '2. high': '63919.68000000', '3. low': '60089.91000000', '4. close': '63262.09000000', '5. volume': '453.02671506'}, '2024-04-03': {'1. open': '60868.59000000', '2. high': '61980.00000000', '3. low': '60000.00000000', '4. close': '60944.89000000', '5. volume': '512.74702544'}, '2024-04-02': {'1. open': '64905.24000000', '2. high': '64940.52000000', '3. low': '60011.64000000', '4. close': '60853.75000000', '5. volume': '1100.29393570'}, '2024-04-01': {'1. open': '66093.32000000', '2. high': '66101.60000000', '3. low': '63422.75000000', '4. close': '64909.14000000', '5. volume': '374.26140114'}, '2024-03-31': {'1. open': '64582.40000000', '2. high': '66193.77000000', '3. low': '64551.58000000', '4. close': '66099.78000000', '5. volume': '191.18973257'}, '2024-03-30': {'1. open': '64800.06000000', '2. high': '65187.26000000', '3. low': '64531.79000000', '4. close': '64567.04000000', '5. volume': '128.52661545'}, '2024-03-29': {'1. open': '65609.90000000', '2. high': '65784.03000000', '3. low': '64000.00000000', '4. close': '64804.53000000', '5. volume': '258.96970172'}, '2024-03-28': {'1. open': '64228.88000000', '2. high': '66265.73000000', '3. low': '63636.15000000', '4. close': '65616.11000000', '5. volume': '372.85584733'}, '2024-03-27': {'1. open': '64592.34000000', '2. high': '66339.18000000', '3. low': '63188.14000000', '4. close': '64187.14000000', '5. volume': '723.56355016'}, '2024-03-26': {'1. open': '64440.88000000', '2. high': '65971.86000000', '3. low': '63893.68000000', '4. close': '64578.78000000', '5. volume': '462.38197499'}, '2024-03-25': {'1. open': '62194.73000000', '2. high': '65689.95000000', '3. low': '61391.43000000', '4. close': '64434.81000000', '5. volume': '786.75081788'}, '2024-03-24': {'1. open': '59269.04000000', '2. high': '62558.63000000', '3. low': '59058.70000000', '4. close': '62197.99000000', '5. volume': '354.37775492'}, '2024-03-23': {'1. open': '59121.32000000', '2. high': '61146.40000000', '3. low': '58377.10000000', '4. close': '59270.27000000', '5. volume': '308.58241208'}, '2024-03-22': {'1. open': '60314.15000000', '2. high': '61527.63000000', '3. low': '57723.98000000', '4. close': '59092.76000000', '5. volume': '778.44754940'}, '2024-03-21': {'1. open': '62098.75000000', '2. high': '62450.49000000', '3. low': '59452.00000000', '4. close': '60311.85000000', '5. volume': '792.84807062'}, '2024-03-20': {'1. open': '57002.05000000', '2. high': '62418.00000000', '3. low': '55904.42000000', '4. close': '62104.86000000', '5. volume': '1320.89865175'}, '2024-03-19': {'1. open': '62150.25000000', '2. high': '62630.24000000', '3. low': '56617.26000000', '4. close': '56992.73000000', '5. volume': '1643.82438685'}, '2024-03-18': {'1. open': '62809.05000000', '2. high': '63323.33000000', '3. low': '61175.19000000', '4. close': '62167.44000000', '5. volume': '686.58471196'}, '2024-03-17': {'1. open': '59904.58000000', '2. high': '63275.93000000', '3. low': '59147.18000000', '4. close': '62799.62000000', '5. volume': '848.16305427'}, '2024-03-16': {'1. open': '63883.90000000', '2. high': '64377.91000000', '3. low': '59470.50000000', '4. close': '59904.06000000', '5. volume': '703.58792108'}, '2024-03-15': {'1. open': '65632.21000000', '2. high': '66573.90000000', '3. low': '60178.01000000', '4. close': '63873.31000000', '5. volume': '1580.24010395'}, '2024-03-14': {'1. open': '66773.00000000', '2. high': '67467.86000000', '3. low': '62942.02000000', '4. close': '65631.65000000', '5. volume': '1111.71424647'}, '2024-03-13': {'1. open': '65411.00000000', '2. high': '67437.05000000', '3. low': '65279.06000000', '4. close': '66772.14000000', '5. volume': '703.39502589'}, '2024-03-12': {'1. open': '65704.92000000', '2. high': '66943.61000000', '3. low': '62952.84000000', '4. close': '65424.91000000', '5. volume': '1000.88978827'}, '2024-03-11': {'1. open': '63085.63000000', '2. high': '66498.88000000', '3. low': '61332.21000000', '4. close': '65689.34000000', '5. volume': '1005.81234192'}, '2024-03-10': {'1. open': '62549.27000000', '2. high': '63945.01000000', '3. low': '62334.78000000', '4. close': '63064.25000000', '5. volume': '414.00852885'}, '2024-03-09': {'1. open': '62414.69000000', '2. high': '62799.99000000', '3. low': '62168.35000000', '4. close': '62553.18000000', '5. volume': '217.19679871'}, '2024-03-08': {'1. open': '61043.74000000', '2. high': '64012.00000000', '3. low': '60410.00000000', '4. close': '62408.25000000', '5. volume': '764.59105869'}, '2024-03-07': {'1. open': '60635.54000000', '2. high': '62320.76000000', '3. low': '60133.38000000', '4. close': '61027.58000000', '5. volume': '594.19610322'}, '2024-03-06': {'1. open': '58825.04000000', '2. high': '62297.53000000', '3. low': '57910.32000000', '4. close': '60629.09000000', '5. volume': '823.94642282'}, '2024-03-05': {'1. open': '62779.25000000', '2. high': '63600.00000000', '3. low': '48500.00000000', '4. close': '58821.41000000', '5. volume': '2198.24205859'}, '2024-03-04': {'1. open': '58226.26000000', '2. high': '62960.00000000', '3. low': '57439.00000000', '4. close': '62779.25000000', '5. volume': '1449.33430287'}, '2024-03-03': {'1. open': '57224.17000000', '2. high': '58328.78000000', '3. low': '56628.55000000', '4. close': '58227.89000000', '5. volume': '309.28890918'}, '2024-03-02': {'1. open': '57565.56000000', '2. high': '57627.13000000', '3. low': '56837.19000000', '4. close': '57211.22000000', '5. volume': '261.24992375'}, '2024-03-01': {'1. open': '56509.14000000', '2. high': '58300.00000000', '3. low': '56106.21000000', '4. close': '57572.75000000', '5. volume': '649.14989943'}, '2024-02-29': {'1. open': '57472.17000000', '2. high': '58640.40000000', '3. low': '55753.70000000', '4. close': '56477.23000000', '5. volume': '1065.49802200'}, '2024-02-28': {'1. open': '52600.59000000', '2. high': '59097.20000000', '3. low': '52309.80000000', '4. close': '57460.80000000', '5. volume': '1487.12728374'}, '2024-02-27': {'1. open': '49978.02000000', '2. high': '53063.37000000', '3. low': '49978.02000000', '4. close': '52587.36000000', '5. volume': '853.57840760'}, '2024-02-26': {'1. open': '47818.86000000', '2. high': '50487.20000000', '3. low': '46932.18000000', '4. close': '49979.74000000', '5. volume': '644.68082895'}, '2024-02-25': {'1. open': '47632.45000000', '2. high': '47979.99000000', '3. low': '47395.70000000', '4. close': '47803.84000000', '5. volume': '180.67373572'}, '2024-02-24': {'1. open': '46883.14000000', '2. high': '47757.48000000', '3. low': '46732.47000000', '4. close': '47632.45000000', '5. volume': '160.86393428'}, '2024-02-23': {'1. open': '47370.10000000', '2. high': '47589.09000000', '3. low': '46677.17000000', '4. close': '46873.10000000', '5. volume': '347.17726725'}, '2024-02-22': {'1. open': '47938.77000000', '2. high': '48117.60000000', '3. low': '47024.34000000', '4. close': '47359.21000000', '5. volume': '427.09798542'}, '2024-02-21': {'1. open': '48366.57000000', '2. high': '48474.07000000', '3. low': '46878.06000000', '4. close': '47938.43000000', '5. volume': '444.01980631'}, '2024-02-20': {'1. open': '48063.67000000', '2. high': '49025.00000000', '3. low': '46986.06000000', '4. close': '48364.32000000', '5. volume': '611.91851120'}, '2024-02-19': {'1. open': '48369.79000000', '2. high': '48706.16000000', '3. low': '47962.97000000', '4. close': '48056.14000000', '5. volume': '432.82093359'}, '2024-02-18': {'1. open': '47964.57000000', '2. high': '48642.33000000', '3. low': '47519.42000000', '4. close': '48354.00000000', '5. volume': '237.63179525'}, '2024-02-17': {'1. open': '48410.66000000', '2. high': '48458.09000000', '3. low': '46957.52000000', '4. close': '47959.18000000', '5. volume': '415.62814737'}, '2024-02-16': {'1. open': '48198.71000000', '2. high': '48950.00000000', '3. low': '47910.97000000', '4. close': '48405.14000000', '5. volume': '509.08758712'}, '2024-02-15': {'1. open': '48299.88000000', '2. high': '49068.78000000', '3. low': '47672.54000000', '4. close': '48194.01000000', '5. volume': '838.80532868'}, '2024-02-14': {'1. open': '46440.04000000', '2. high': '48599.40000000', '3. low': '45995.64000000', '4. close': '48300.68000000', '5. volume': '821.35946398'}, '2024-02-13': {'1. open': '46210.36000000', '2. high': '46661.94000000', '3. low': '45085.10000000', '4. close': '46434.80000000', '5. volume': '640.41108637'}, '2024-02-12': {'1. open': '44569.87000000', '2. high': '46692.70000000', '3. low': '44133.62000000', '4. close': '46210.59000000', '5. volume': '857.91750188'}, '2024-02-11': {'1. open': '44034.81000000', '2. high': '44653.24000000', '3. low': '43868.85000000', '4. close': '44552.73000000', '5. volume': '315.15008875'}, '2024-02-10': {'1. open': '43140.66000000', '2. high': '44400.00000000', '3. low': '42794.10000000', '4. close': '44027.18000000', '5. volume': '406.57912918'}, '2024-02-09': {'1. open': '42025.18000000', '2. high': '44598.99000000', '3. low': '41992.67000000', '4. close': '43124.72000000', '5. volume': '823.95348518'}, '2024-02-08': {'1. open': '41133.90000000', '2. high': '42308.54000000', '3. low': '41118.48000000', '4. close': '42012.50000000', '5. volume': '454.20625106'}, '2024-02-07': {'1. open': '40070.02000000', '2. high': '41199.11000000', '3. low': '39752.84000000', '4. close': '41128.84000000', '5. volume': '375.21982565'}, '2024-02-06': {'1. open': '39736.46000000', '2. high': '40355.00000000', '3. low': '39591.11000000', '4. close': '40065.55000000', '5. volume': '255.90086225'}, '2024-02-05': {'1. open': '39502.82000000', '2. high': '40486.42000000', '3. low': '39209.28000000', '4. close': '39731.54000000', '5. volume': '318.08445442'}, '2024-02-04': {'1. open': '39864.34000000', '2. high': '39950.68000000', '3. low': '39154.49000000', '4. close': '39489.16000000', '5. volume': '168.68083541'}, '2024-02-03': {'1. open': '40010.18000000', '2. high': '40162.50000000', '3. low': '39739.32000000', '4. close': '39852.73000000', '5. volume': '109.33799414'}, '2024-02-02': {'1. open': '39628.64000000', '2. high': '40227.41000000', '3. low': '39328.63000000', '4. close': '40012.45000000', '5. volume': '283.62426731'}, '2024-02-01': {'1. open': '39403.42000000', '2. high': '39827.92000000', '3. low': '38738.07000000', '4. close': '39621.22000000', '5. volume': '413.92845202'}, '2024-01-31': {'1. open': '39634.04000000', '2. high': '40351.30000000', '3. low': '39100.00000000', '4. close': '39410.58000000', '5. volume': '542.94919408'}, '2024-01-30': {'1. open': '39979.26000000', '2. high': '40497.75000000', '3. low': '39383.70000000', '4. close': '39633.57000000', '5. volume': '448.09912086'}, '2024-01-29': {'1. open': '38774.95000000', '2. high': '40077.97000000', '3. low': '38620.34000000', '4. close': '39975.64000000', '5. volume': '468.82367944'}, '2024-01-28': {'1. open': '38848.94000000', '2. high': '39477.03000000', '3. low': '38384.28000000', '4. close': '38770.89000000', '5. volume': '251.82164524'}, '2024-01-27': {'1. open': '38562.43000000', '2. high': '38928.11000000', '3. low': '38155.34000000', '4. close': '38857.09000000', '5. volume': '183.88120856'}, '2024-01-26': {'1. open': '36853.93000000', '2. high': '38931.47000000', '3. low': '36740.98000000', '4. close': '38562.87000000', '5. volume': '553.72491938'}, '2024-01-25': {'1. open': '36845.20000000', '2. high': '37024.19000000', '3. low': '36448.01000000', '4. close': '36855.82000000', '5. volume': '350.07687683'}, '2024-01-24': {'1. open': '36770.49000000', '2. high': '37236.52000000', '3. low': '36254.69000000', '4. close': '36845.18000000', '5. volume': '669.25689196'}, '2024-01-23': {'1. open': '36345.19000000', '2. high': '36858.04000000', '3. low': '35455.56000000', '4. close': '36765.32000000', '5. volume': '844.33204031'}, '2024-01-22': {'1. open': '38174.41000000', '2. high': '38236.90000000', '3. low': '36138.33000000', '4. close': '36345.19000000', '5. volume': '876.86122511'}, '2024-01-21': {'1. open': '38280.44000000', '2. high': '38456.48000000', '3. low': '38108.08000000', '4. close': '38178.38000000', '5. volume': '103.40935595'}, '2024-01-20': {'1. open': '38239.70000000', '2. high': '38443.43000000', '3. low': '38058.69000000', '4. close': '38283.48000000', '5. volume': '150.32543212'}, '2024-01-19': {'1. open': '37998.87000000', '2. high': '38723.22000000', '3. low': '37000.00000000', '4. close': '38236.24000000', '5. volume': '536.44714448'}, '2024-01-18': {'1. open': '39276.18000000', '2. high': '39407.88000000', '3. low': '37379.64000000', '4. close': '37988.66000000', '5. volume': '718.50309977'}, '2024-01-17': {'1. open': '39675.59000000', '2. high': '39728.85000000', '3. low': '38849.96000000', '4. close': '39272.26000000', '5. volume': '405.98425404'}, '2024-01-16': {'1. open': '38854.04000000', '2. high': '40087.58000000', '3. low': '38700.00000000', '4. close': '39685.64000000', '5. volume': '386.11020222'}, '2024-01-15': {'1. open': '38125.62000000', '2. high': '39626.61000000', '3. low': '38111.56000000', '4. close': '38856.28000000', '5. volume': '565.02130209'}, '2024-01-14': {'1. open': '39205.76000000', '2. high': '39384.66000000', '3. low': '38107.26000000', '4. close': '38127.68000000', '5. volume': '382.57458439'}, '2024-01-13': {'1. open': '39150.25000000', '2. high': '39645.59000000', '3. low': '38799.22000000', '4. close': '39207.07000000', '5. volume': '468.52145693'}, '2024-01-12': {'1. open': '42225.03000000', '2. high': '42403.63000000', '3. low': '37900.00000000', '4. close': '39146.18000000', '5. volume': '1471.06363884'}, '2024-01-11': {'1. open': '42588.61000000', '2. high': '44887.99000000', '3. low': '41588.00000000', '4. close': '42227.19000000', '5. volume': '1639.99550313'}, '2024-01-10': {'1. open': '42250.10000000', '2. high': '43571.51000000', '3. low': '40529.96000000', '4. close': '42576.83000000', '5. volume': '1436.15821126'}, '2024-01-09': {'1. open': '42922.51000000', '2. high': '43977.39000000', '3. low': '41017.14000000', '4. close': '42224.79000000', '5. volume': '1282.63926189'}, '2024-01-08': {'1. open': '40212.32000000', '2. high': '43178.99000000', '3. low': '39534.33000000', '4. close': '42919.85000000', '5. volume': '1133.08295922'}, '2024-01-07': {'1. open': '40259.98000000', '2. high': '40730.42000000', '3. low': '39933.18000000', '4. close': '40205.88000000', '5. volume': '410.42694407'}, '2024-01-06': {'1. open': '40426.56000000', '2. high': '40484.98000000', '3. low': '39750.00000000', '4. close': '40264.14000000', '5. volume': '237.16452420'}, '2024-01-05': {'1. open': '40419.60000000', '2. high': '40675.80000000', '3. low': '38811.00000000', '4. close': '40424.44000000', '5. volume': '1089.89064410'}, '2024-01-04': {'1. open': '39325.86000000', '2. high': '40949.76000000', '3. low': '38999.00000000', '4. close': '40412.75000000', '5. volume': '874.41827334'}, '2024-01-03': {'1. open': '41126.14000000', '2. high': '41614.69000000', '3. low': '37350.00000000', '4. close': '39332.21000000', '5. volume': '1482.34923329'}, '2024-01-02': {'1. open': '40091.39000000', '2. high': '41912.00000000', '3. low': '40054.41000000', '4. close': '41120.45000000', '5. volume': '989.26435722'}, '2024-01-01': {'1. open': '38418.87000000', '2. high': '40100.00000000', '3. low': '38294.70000000', '4. close': '40090.38000000', '5. volume': '365.72069768'}, '2023-12-31': {'1. open': '38280.09000000', '2. high': '38948.18000000', '3. low': '38111.66000000', '4. close': '38427.75000000', '5. volume': '378.74827432'}, '2023-12-30': {'1. open': '38216.07000000', '2. high': '38682.77000000', '3. low': '37689.55000000', '4. close': '38278.51000000', '5. volume': '517.29575131'}, '2023-12-29': {'1. open': '38498.12000000', '2. high': '39067.83000000', '3. low': '37544.31000000', '4. close': '38217.53000000', '5. volume': '673.86755739'}, '2023-12-28': {'1. open': '39156.55000000', '2. high': '39449.76000000', '3. low': '38158.41000000', '4. close': '38495.00000000', '5. volume': '647.48504211'}, '2023-12-27': {'1. open': '38533.41000000', '2. high': '39386.00000000', '3. low': '38200.00000000', '4. close': '39151.63000000', '5. volume': '569.19493673'}}}\n"
     ]
    }
   ],
   "source": [
    "url = 'https://www.alphavantage.co/query?function=DIGITAL_CURRENCY_DAILY&symbol=BTC&market=EUR&apikey=9L9VOBDWJW11XG3K'\n",
    "r = requests.get(url)\n",
    "data = r.json()\n",
    "\n",
    "print(data)"
   ]
  },
  {
   "cell_type": "code",
   "execution_count": 25,
   "metadata": {},
   "outputs": [
    {
     "name": "stdout",
     "output_type": "stream",
     "text": [
      "Index(['1. open', '2. high', '3. low', '4. close', '5. volume'], dtype='object')\n",
      "          Date      Open (EUR)      High (EUR)       Low (EUR)  \\\n",
      "0   2024-12-10  92239.33000000  93082.80000000  92000.01000000   \n",
      "1   2024-12-09  95662.16000000  95763.04000000  89217.53000000   \n",
      "2   2024-12-08  94428.15000000  95908.70000000  93391.07000000   \n",
      "3   2024-12-07  94435.53000000  95080.04000000  93383.71000000   \n",
      "4   2024-12-06  91706.60000000  96591.42000000  91127.00000000   \n",
      "..         ...             ...             ...             ...   \n",
      "345 2023-12-31  38280.09000000  38948.18000000  38111.66000000   \n",
      "346 2023-12-30  38216.07000000  38682.77000000  37689.55000000   \n",
      "347 2023-12-29  38498.12000000  39067.83000000  37544.31000000   \n",
      "348 2023-12-28  39156.55000000  39449.76000000  38158.41000000   \n",
      "349 2023-12-27  38533.41000000  39386.00000000  38200.00000000   \n",
      "\n",
      "        Close (EUR)    Open (USD)  \n",
      "0    92692.36000000   26.58823172  \n",
      "1    92274.10000000  552.52661383  \n",
      "2    95685.97000000  168.88619671  \n",
      "3    94421.99000000  197.26954813  \n",
      "4    94436.71000000  542.64571223  \n",
      "..              ...           ...  \n",
      "345  38427.75000000  378.74827432  \n",
      "346  38278.51000000  517.29575131  \n",
      "347  38217.53000000  673.86755739  \n",
      "348  38495.00000000  647.48504211  \n",
      "349  39151.63000000  569.19493673  \n",
      "\n",
      "[350 rows x 6 columns]\n"
     ]
    }
   ],
   "source": [
    "\n",
    "# Extract relevant data\n",
    "time_series = data.get('Time Series (Digital Currency Daily)', {})\n",
    "\n",
    "# Convert to DataFrame\n",
    "df = pd.DataFrame.from_dict(time_series, orient='index')\n",
    "\n",
    "# Inspect columns to ensure alignment\n",
    "print(df.columns)\n",
    "\n",
    "# Rename columns based on the actual data structure\n",
    "df.columns = [\n",
    "    \"Open (EUR)\", \"High (EUR)\", \"Low (EUR)\", \"Close (EUR)\",\n",
    "    \"Open (USD)\", \"High (USD)\", \"Low (USD)\", \"Close (USD)\",\n",
    "    \"Volume\", \"Market Cap\"\n",
    "][:len(df.columns)]  # Automatically adjust to match column count\n",
    "\n",
    "# Reset index to move the dates into a column\n",
    "df.reset_index(inplace=True)\n",
    "df.rename(columns={\"index\": \"Date\"}, inplace=True)\n",
    "\n",
    "# Convert Date column to datetime\n",
    "df['Date'] = pd.to_datetime(df['Date'])\n",
    "\n",
    "# Display the cleaned DataFrame\n",
    "print(df)\n"
   ]
  },
  {
   "cell_type": "code",
   "execution_count": 27,
   "metadata": {},
   "outputs": [
    {
     "data": {
      "text/html": [
       "<div>\n",
       "<style scoped>\n",
       "    .dataframe tbody tr th:only-of-type {\n",
       "        vertical-align: middle;\n",
       "    }\n",
       "\n",
       "    .dataframe tbody tr th {\n",
       "        vertical-align: top;\n",
       "    }\n",
       "\n",
       "    .dataframe thead th {\n",
       "        text-align: right;\n",
       "    }\n",
       "</style>\n",
       "<table border=\"1\" class=\"dataframe\">\n",
       "  <thead>\n",
       "    <tr style=\"text-align: right;\">\n",
       "      <th></th>\n",
       "      <th>Date</th>\n",
       "      <th>Open (EUR)</th>\n",
       "      <th>High (EUR)</th>\n",
       "      <th>Low (EUR)</th>\n",
       "      <th>Close (EUR)</th>\n",
       "      <th>Open (USD)</th>\n",
       "    </tr>\n",
       "  </thead>\n",
       "  <tbody>\n",
       "    <tr>\n",
       "      <th>0</th>\n",
       "      <td>2024-12-10</td>\n",
       "      <td>92239.33000000</td>\n",
       "      <td>93082.80000000</td>\n",
       "      <td>92000.01000000</td>\n",
       "      <td>92692.36000000</td>\n",
       "      <td>26.58823172</td>\n",
       "    </tr>\n",
       "    <tr>\n",
       "      <th>1</th>\n",
       "      <td>2024-12-09</td>\n",
       "      <td>95662.16000000</td>\n",
       "      <td>95763.04000000</td>\n",
       "      <td>89217.53000000</td>\n",
       "      <td>92274.10000000</td>\n",
       "      <td>552.52661383</td>\n",
       "    </tr>\n",
       "    <tr>\n",
       "      <th>2</th>\n",
       "      <td>2024-12-08</td>\n",
       "      <td>94428.15000000</td>\n",
       "      <td>95908.70000000</td>\n",
       "      <td>93391.07000000</td>\n",
       "      <td>95685.97000000</td>\n",
       "      <td>168.88619671</td>\n",
       "    </tr>\n",
       "    <tr>\n",
       "      <th>3</th>\n",
       "      <td>2024-12-07</td>\n",
       "      <td>94435.53000000</td>\n",
       "      <td>95080.04000000</td>\n",
       "      <td>93383.71000000</td>\n",
       "      <td>94421.99000000</td>\n",
       "      <td>197.26954813</td>\n",
       "    </tr>\n",
       "    <tr>\n",
       "      <th>4</th>\n",
       "      <td>2024-12-06</td>\n",
       "      <td>91706.60000000</td>\n",
       "      <td>96591.42000000</td>\n",
       "      <td>91127.00000000</td>\n",
       "      <td>94436.71000000</td>\n",
       "      <td>542.64571223</td>\n",
       "    </tr>\n",
       "    <tr>\n",
       "      <th>...</th>\n",
       "      <td>...</td>\n",
       "      <td>...</td>\n",
       "      <td>...</td>\n",
       "      <td>...</td>\n",
       "      <td>...</td>\n",
       "      <td>...</td>\n",
       "    </tr>\n",
       "    <tr>\n",
       "      <th>345</th>\n",
       "      <td>2023-12-31</td>\n",
       "      <td>38280.09000000</td>\n",
       "      <td>38948.18000000</td>\n",
       "      <td>38111.66000000</td>\n",
       "      <td>38427.75000000</td>\n",
       "      <td>378.74827432</td>\n",
       "    </tr>\n",
       "    <tr>\n",
       "      <th>346</th>\n",
       "      <td>2023-12-30</td>\n",
       "      <td>38216.07000000</td>\n",
       "      <td>38682.77000000</td>\n",
       "      <td>37689.55000000</td>\n",
       "      <td>38278.51000000</td>\n",
       "      <td>517.29575131</td>\n",
       "    </tr>\n",
       "    <tr>\n",
       "      <th>347</th>\n",
       "      <td>2023-12-29</td>\n",
       "      <td>38498.12000000</td>\n",
       "      <td>39067.83000000</td>\n",
       "      <td>37544.31000000</td>\n",
       "      <td>38217.53000000</td>\n",
       "      <td>673.86755739</td>\n",
       "    </tr>\n",
       "    <tr>\n",
       "      <th>348</th>\n",
       "      <td>2023-12-28</td>\n",
       "      <td>39156.55000000</td>\n",
       "      <td>39449.76000000</td>\n",
       "      <td>38158.41000000</td>\n",
       "      <td>38495.00000000</td>\n",
       "      <td>647.48504211</td>\n",
       "    </tr>\n",
       "    <tr>\n",
       "      <th>349</th>\n",
       "      <td>2023-12-27</td>\n",
       "      <td>38533.41000000</td>\n",
       "      <td>39386.00000000</td>\n",
       "      <td>38200.00000000</td>\n",
       "      <td>39151.63000000</td>\n",
       "      <td>569.19493673</td>\n",
       "    </tr>\n",
       "  </tbody>\n",
       "</table>\n",
       "<p>350 rows × 6 columns</p>\n",
       "</div>"
      ],
      "text/plain": [
       "          Date      Open (EUR)      High (EUR)       Low (EUR)  \\\n",
       "0   2024-12-10  92239.33000000  93082.80000000  92000.01000000   \n",
       "1   2024-12-09  95662.16000000  95763.04000000  89217.53000000   \n",
       "2   2024-12-08  94428.15000000  95908.70000000  93391.07000000   \n",
       "3   2024-12-07  94435.53000000  95080.04000000  93383.71000000   \n",
       "4   2024-12-06  91706.60000000  96591.42000000  91127.00000000   \n",
       "..         ...             ...             ...             ...   \n",
       "345 2023-12-31  38280.09000000  38948.18000000  38111.66000000   \n",
       "346 2023-12-30  38216.07000000  38682.77000000  37689.55000000   \n",
       "347 2023-12-29  38498.12000000  39067.83000000  37544.31000000   \n",
       "348 2023-12-28  39156.55000000  39449.76000000  38158.41000000   \n",
       "349 2023-12-27  38533.41000000  39386.00000000  38200.00000000   \n",
       "\n",
       "        Close (EUR)    Open (USD)  \n",
       "0    92692.36000000   26.58823172  \n",
       "1    92274.10000000  552.52661383  \n",
       "2    95685.97000000  168.88619671  \n",
       "3    94421.99000000  197.26954813  \n",
       "4    94436.71000000  542.64571223  \n",
       "..              ...           ...  \n",
       "345  38427.75000000  378.74827432  \n",
       "346  38278.51000000  517.29575131  \n",
       "347  38217.53000000  673.86755739  \n",
       "348  38495.00000000  647.48504211  \n",
       "349  39151.63000000  569.19493673  \n",
       "\n",
       "[350 rows x 6 columns]"
      ]
     },
     "execution_count": 27,
     "metadata": {},
     "output_type": "execute_result"
    }
   ],
   "source": [
    "df"
   ]
  },
  {
   "cell_type": "code",
   "execution_count": 1,
   "metadata": {},
   "outputs": [
    {
     "name": "stdout",
     "output_type": "stream",
     "text": [
      "Hello\n"
     ]
    }
   ],
   "source": [
    "print(\"Hello\")"
   ]
  },
  {
   "cell_type": "code",
   "execution_count": null,
   "metadata": {},
   "outputs": [],
   "source": []
  }
 ],
 "metadata": {
  "kernelspec": {
   "display_name": "base",
   "language": "python",
   "name": "python3"
  },
  "language_info": {
   "codemirror_mode": {
    "name": "ipython",
    "version": 3
   },
   "file_extension": ".py",
   "mimetype": "text/x-python",
   "name": "python",
   "nbconvert_exporter": "python",
   "pygments_lexer": "ipython3",
   "version": "3.11.7"
  }
 },
 "nbformat": 4,
 "nbformat_minor": 2
}
